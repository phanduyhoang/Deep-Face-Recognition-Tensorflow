{
  "metadata": {
    "kernelspec": {
      "display_name": "Python 3",
      "name": "python3"
    },
    "language_info": {
      "name": "python",
      "version": "3.10.12",
      "mimetype": "text/x-python",
      "codemirror_mode": {
        "name": "ipython",
        "version": 3
      },
      "pygments_lexer": "ipython3",
      "nbconvert_exporter": "python",
      "file_extension": ".py"
    },
    "kaggle": {
      "accelerator": "none",
      "dataSources": [
        {
          "sourceId": 34595,
          "sourceType": "datasetVersion",
          "datasetId": 26922
        }
      ],
      "dockerImageVersionId": 30839,
      "isInternetEnabled": false,
      "language": "python",
      "sourceType": "notebook",
      "isGpuEnabled": false
    },
    "colab": {
      "provenance": []
    }
  },
  "nbformat_minor": 0,
  "nbformat": 4,
  "cells": [
    {
      "cell_type": "code",
      "source": [
        "!unzip -q /content/negative.zip -d /content/lfw-dataset\n",
        "\n"
      ],
      "metadata": {
        "_uuid": "8f2839f25d086af736a60e9eeb907d3b93b6e0e5",
        "_cell_guid": "b1076dfc-b9ad-4769-8c92-a6c4dae69d19",
        "trusted": true,
        "execution": {
          "iopub.status.busy": "2025-01-17T15:30:28.836065Z",
          "iopub.execute_input": "2025-01-17T15:30:28.836403Z",
          "iopub.status.idle": "2025-01-17T15:30:33.557072Z",
          "shell.execute_reply.started": "2025-01-17T15:30:28.836356Z",
          "shell.execute_reply": "2025-01-17T15:30:33.555758Z"
        },
        "id": "gwbeKb7GJR99"
      },
      "outputs": [],
      "execution_count": 1
    },
    {
      "cell_type": "code",
      "source": [
        "import tensorflow as tf\n",
        "import cv2\n",
        "import matplotlib.pyplot as plt\n",
        "import os\n",
        "import random\n",
        "from tensorflow.keras.models import Model\n",
        "from tensorflow.keras.layers import Input, Conv2D, MaxPooling2D, UpSampling2D, concatenate, Flatten, Dense, Layer\n",
        "gpus=tf.config.experimental.list_physical_devices('GPU')\n",
        "for gpu in gpus:\n",
        "  print(tf.config.experimental.set_memory_growth(gpu,True))\n",
        "for gpu in gpus:\n",
        "  print(gpu)\n",
        "POS_PATH=os.path.join('data','positive')\n",
        "NEG_PATH=os.path.join('data','negative')\n",
        "ANC_PATH=os.path.join('data','anchor')\n",
        "\n"
      ],
      "metadata": {
        "trusted": true,
        "execution": {
          "iopub.status.busy": "2025-01-17T21:11:41.320085Z",
          "iopub.execute_input": "2025-01-17T21:11:41.320449Z",
          "iopub.status.idle": "2025-01-17T21:11:41.326890Z",
          "shell.execute_reply.started": "2025-01-17T21:11:41.320418Z",
          "shell.execute_reply": "2025-01-17T21:11:41.325495Z"
        },
        "id": "xlE_t76eJR9_"
      },
      "outputs": [],
      "execution_count": 2
    },
    {
      "cell_type": "code",
      "source": [
        "# Create directories if they do not exist\n",
        "os.makedirs(POS_PATH, exist_ok=True)\n",
        "os.makedirs(NEG_PATH, exist_ok=True)\n",
        "os.makedirs(ANC_PATH, exist_ok=True)\n",
        "\n",
        "print(\"Directories created successfully!\")\n"
      ],
      "metadata": {
        "colab": {
          "base_uri": "https://localhost:8080/"
        },
        "id": "rxbMOQVoTCup",
        "outputId": "d04be4c7-d46b-4b7c-f4dd-325ea3aa17c1"
      },
      "execution_count": 3,
      "outputs": [
        {
          "output_type": "stream",
          "name": "stdout",
          "text": [
            "Directories created successfully!\n"
          ]
        }
      ]
    },
    {
      "cell_type": "code",
      "source": [
        "import os\n",
        "for directory in os.listdir('/content/lfw-dataset/lfw-deepfunneled/lfw-deepfunneled'):\n",
        "    for file in os.listdir(os.path.join('/content/lfw-dataset/lfw-deepfunneled/lfw-deepfunneled', directory)):\n",
        "        EX_PATH = os.path.join('/content/lfw-dataset/lfw-deepfunneled/lfw-deepfunneled', directory, file)\n",
        "        NEW_PATH = os.path.join(NEG_PATH, file)\n",
        "        os.replace(EX_PATH, NEW_PATH)\n",
        "        # Debugging: Print paths to verify\n",
        "        # print(f\"EX_PATH: {EX_PATH}\")\n",
        "        # print(f\"NEW_PATH: {NEW_PATH}\")\n"
      ],
      "metadata": {
        "trusted": true,
        "id": "W1ot2qenJR9_"
      },
      "outputs": [],
      "execution_count": 4
    },
    {
      "cell_type": "code",
      "source": [
        "!pip install icrawler"
      ],
      "metadata": {
        "trusted": true,
        "colab": {
          "base_uri": "https://localhost:8080/"
        },
        "id": "u3CV8I5WJR9_",
        "outputId": "529a6090-2918-466c-a55d-53640b44479c"
      },
      "outputs": [
        {
          "output_type": "stream",
          "name": "stdout",
          "text": [
            "Collecting icrawler\n",
            "  Downloading icrawler-0.6.9-py3-none-any.whl.metadata (2.8 kB)\n",
            "Requirement already satisfied: beautifulsoup4 in /usr/local/lib/python3.11/dist-packages (from icrawler) (4.12.3)\n",
            "Collecting bs4 (from icrawler)\n",
            "  Downloading bs4-0.0.2-py2.py3-none-any.whl.metadata (411 bytes)\n",
            "Requirement already satisfied: lxml in /usr/local/lib/python3.11/dist-packages (from icrawler) (5.3.0)\n",
            "Requirement already satisfied: pillow in /usr/local/lib/python3.11/dist-packages (from icrawler) (11.1.0)\n",
            "Requirement already satisfied: pyyaml in /usr/local/lib/python3.11/dist-packages (from icrawler) (6.0.2)\n",
            "Requirement already satisfied: requests in /usr/local/lib/python3.11/dist-packages (from icrawler) (2.32.3)\n",
            "Requirement already satisfied: six in /usr/local/lib/python3.11/dist-packages (from icrawler) (1.17.0)\n",
            "Requirement already satisfied: soupsieve>1.2 in /usr/local/lib/python3.11/dist-packages (from beautifulsoup4->icrawler) (2.6)\n",
            "Requirement already satisfied: charset-normalizer<4,>=2 in /usr/local/lib/python3.11/dist-packages (from requests->icrawler) (3.4.1)\n",
            "Requirement already satisfied: idna<4,>=2.5 in /usr/local/lib/python3.11/dist-packages (from requests->icrawler) (3.10)\n",
            "Requirement already satisfied: urllib3<3,>=1.21.1 in /usr/local/lib/python3.11/dist-packages (from requests->icrawler) (2.3.0)\n",
            "Requirement already satisfied: certifi>=2017.4.17 in /usr/local/lib/python3.11/dist-packages (from requests->icrawler) (2024.12.14)\n",
            "Downloading icrawler-0.6.9-py3-none-any.whl (34 kB)\n",
            "Downloading bs4-0.0.2-py2.py3-none-any.whl (1.2 kB)\n",
            "Installing collected packages: bs4, icrawler\n",
            "Successfully installed bs4-0.0.2 icrawler-0.6.9\n"
          ]
        }
      ],
      "execution_count": 5
    },
    {
      "cell_type": "code",
      "source": [
        "!pip install icrawler Pillow mtcnn\n",
        "\n",
        "import os  # Added import\n",
        "from icrawler.builtin import BingImageCrawler\n",
        "from PIL import Image, ImageOps\n",
        "import matplotlib.pyplot as plt\n",
        "from mtcnn import MTCNN\n",
        "import numpy as np\n",
        "import shutil\n",
        "import uuid\n",
        "\n",
        "def scrape_and_store_images(person_name, num_images, positive_path, anchor_path):\n",
        "    # Ensure the save paths exist\n",
        "    if not os.path.exists(positive_path):\n",
        "        os.makedirs(positive_path)\n",
        "        print(f\"Created directory: {positive_path}\")\n",
        "    else:\n",
        "        print(f\"Directory already exists: {positive_path}\")\n",
        "\n",
        "    if not os.path.exists(anchor_path):\n",
        "        os.makedirs(anchor_path)\n",
        "        print(f\"Created directory: {anchor_path}\")\n",
        "    else:\n",
        "        print(f\"Directory already exists: {anchor_path}\")\n",
        "\n",
        "    # Initialize the Bing crawler\n",
        "    crawler = BingImageCrawler(storage={\"root_dir\": \"temp_images\"})\n",
        "    print(f\"Starting image crawl for '{person_name}' with max_num={num_images}\")\n",
        "    crawler.crawl(keyword=person_name, max_num=num_images)  # Download specified number of images\n",
        "    print(\"Image crawling completed.\")\n",
        "\n",
        "    # Process each downloaded image\n",
        "    image_files = [f for f in os.listdir(\"temp_images\") if f.endswith(('jpg', 'jpeg', 'png'))]\n",
        "    print(f\"Number of images downloaded: {len(image_files)}\")\n",
        "\n",
        "    if not image_files:\n",
        "        raise FileNotFoundError(\"No images were downloaded. Please refine your search query.\")\n",
        "\n",
        "    detector = MTCNN()\n",
        "    saved_count = 0\n",
        "    for idx, image_file in enumerate(image_files):\n",
        "        image_path = os.path.join(\"temp_images\", image_file)\n",
        "        try:\n",
        "            downloaded_image = Image.open(image_path).convert(\"RGB\")  # Ensure the image is in RGB mode\n",
        "            image_np = np.array(downloaded_image)  # Convert to NumPy array for MTCNN\n",
        "\n",
        "            # Detect faces\n",
        "            faces = detector.detect_faces(image_np)\n",
        "            if faces:\n",
        "                # Get the first detected face's bounding box\n",
        "                x, y, width, height = faces[0][\"box\"]\n",
        "\n",
        "                # Expand the bounding box by 30%\n",
        "                expansion_factor = 0.3\n",
        "                x_expand = int(width * expansion_factor)\n",
        "                y_expand = int(height * expansion_factor)\n",
        "\n",
        "                # Calculate the new bounding box coordinates\n",
        "                x_new = max(0, x - x_expand)\n",
        "                y_new = max(0, y - y_expand)\n",
        "                width_new = min(downloaded_image.width, x + width + x_expand) - x_new\n",
        "                height_new = min(downloaded_image.height, y + height + y_expand) - y_new\n",
        "\n",
        "                # Crop the expanded face region\n",
        "                cropped_face = downloaded_image.crop((x_new, y_new, x_new + width_new, y_new + height_new))\n",
        "\n",
        "                # Pad to maintain aspect ratio\n",
        "                max_side = max(cropped_face.size)\n",
        "                padded_face = ImageOps.expand(\n",
        "                    cropped_face,\n",
        "                    border=(max_side - cropped_face.width) // 2,\n",
        "                    fill=(0, 0, 0)\n",
        "                )\n",
        "\n",
        "                # Resize to 250x250\n",
        "                resized_face = padded_face.resize((250, 250))\n",
        "\n",
        "                # Save the processed image with a unique name\n",
        "                save_path = positive_path if idx < num_images // 2 else anchor_path  # Split into positive and anchor\n",
        "                filename = f\"{uuid.uuid4().hex}.jpg\"\n",
        "                save_path_full = os.path.join(save_path, filename)\n",
        "                resized_face.save(save_path_full)\n",
        "\n",
        "                print(f\"Saved: {save_path_full}\")\n",
        "                saved_count += 1\n",
        "\n",
        "            else:\n",
        "                print(f\"No face detected in {image_file}. Skipping.\")\n",
        "\n",
        "        except Exception as e:\n",
        "            print(f\"Error processing {image_file}: {e}\")\n",
        "\n",
        "    print(f\"Total images saved: {saved_count}\")\n",
        "\n",
        "    # Clean up temporary folder\n",
        "    shutil.rmtree(\"temp_images\")\n",
        "    print(\"Temporary images folder removed.\")\n",
        "\n",
        "# Example usage\n",
        "POS_PATH = os.path.join('data', 'positive')\n",
        "ANCHOR_PATH = os.path.join('data', 'anchor')\n",
        "scrape_and_store_images(\n",
        "    person_name=\"Elon Musk\",\n",
        "    num_images=800,\n",
        "    positive_path=POS_PATH,\n",
        "    anchor_path=ANC_PATH  # Corrected variable name\n",
        ")\n"
      ],
      "metadata": {
        "trusted": true,
        "id": "7bR4-OrDJR-A",
        "colab": {
          "base_uri": "https://localhost:8080/"
        },
        "outputId": "ae05b4e0-983f-4d86-f194-4205f20642fe"
      },
      "outputs": [
        {
          "output_type": "stream",
          "name": "stdout",
          "text": [
            "Requirement already satisfied: icrawler in /usr/local/lib/python3.11/dist-packages (0.6.9)\n",
            "Requirement already satisfied: Pillow in /usr/local/lib/python3.11/dist-packages (11.1.0)\n",
            "Requirement already satisfied: mtcnn in /usr/local/lib/python3.11/dist-packages (1.0.0)\n",
            "Requirement already satisfied: beautifulsoup4 in /usr/local/lib/python3.11/dist-packages (from icrawler) (4.12.3)\n",
            "Requirement already satisfied: bs4 in /usr/local/lib/python3.11/dist-packages (from icrawler) (0.0.2)\n",
            "Requirement already satisfied: lxml in /usr/local/lib/python3.11/dist-packages (from icrawler) (5.3.0)\n",
            "Requirement already satisfied: pyyaml in /usr/local/lib/python3.11/dist-packages (from icrawler) (6.0.2)\n",
            "Requirement already satisfied: requests in /usr/local/lib/python3.11/dist-packages (from icrawler) (2.32.3)\n",
            "Requirement already satisfied: six in /usr/local/lib/python3.11/dist-packages (from icrawler) (1.17.0)\n",
            "Requirement already satisfied: joblib>=1.4.2 in /usr/local/lib/python3.11/dist-packages (from mtcnn) (1.4.2)\n",
            "Requirement already satisfied: lz4>=4.3.3 in /usr/local/lib/python3.11/dist-packages (from mtcnn) (4.3.3)\n",
            "Requirement already satisfied: soupsieve>1.2 in /usr/local/lib/python3.11/dist-packages (from beautifulsoup4->icrawler) (2.6)\n",
            "Requirement already satisfied: charset-normalizer<4,>=2 in /usr/local/lib/python3.11/dist-packages (from requests->icrawler) (3.4.1)\n",
            "Requirement already satisfied: idna<4,>=2.5 in /usr/local/lib/python3.11/dist-packages (from requests->icrawler) (3.10)\n",
            "Requirement already satisfied: urllib3<3,>=1.21.1 in /usr/local/lib/python3.11/dist-packages (from requests->icrawler) (2.3.0)\n",
            "Requirement already satisfied: certifi>=2017.4.17 in /usr/local/lib/python3.11/dist-packages (from requests->icrawler) (2024.12.14)\n",
            "Directory already exists: data/positive\n",
            "Directory already exists: data/anchor\n",
            "Starting image crawl for 'Elon Musk' with max_num=800\n"
          ]
        },
        {
          "output_type": "stream",
          "name": "stderr",
          "text": [
            "ERROR:downloader:Exception caught when downloading file https://www.washingtonpost.com/wp-apps/imrs.php?src=https://arc-anglerfish-washpost-prod-washpost.s3.amazonaws.com/public/7GZY2GHEDQI6XCGFJ7LDQLCHZM.jpg, error: HTTPSConnectionPool(host='www.washingtonpost.com', port=443): Read timed out. (read timeout=5), remaining retry times: 2\n",
            "ERROR:downloader:Exception caught when downloading file https://www.washingtonpost.com/wp-apps/imrs.php?src=https://arc-anglerfish-washpost-prod-washpost.s3.amazonaws.com/public/7GZY2GHEDQI6XCGFJ7LDQLCHZM.jpg, error: HTTPSConnectionPool(host='www.washingtonpost.com', port=443): Read timed out. (read timeout=5), remaining retry times: 1\n",
            "ERROR:downloader:Exception caught when downloading file https://www.washingtonpost.com/wp-apps/imrs.php?src=https://arc-anglerfish-washpost-prod-washpost.s3.amazonaws.com/public/7GZY2GHEDQI6XCGFJ7LDQLCHZM.jpg, error: HTTPSConnectionPool(host='www.washingtonpost.com', port=443): Read timed out. (read timeout=5), remaining retry times: 0\n",
            "ERROR:downloader:Response status code 404, file https://upload.wikimedia.org/wikipedia/commons/thumb/4/49/Elon_Musk_2015.jpg\n",
            "ERROR:downloader:Response status code 520, file https://itrenting.com/wp-content/uploads/2017/04/elon-musk.jpg\n",
            "ERROR:downloader:Response status code 403, file https://www.theladders.com/wp-content/uploads/Elon_Musk.jpg\n",
            "ERROR:downloader:Exception caught when downloading file https://apidyn.royalsociety.org/images/fellows/P37009-Elon-Musk.jpg, error: HTTPSConnectionPool(host='apidyn.royalsociety.org', port=443): Max retries exceeded with url: /images/fellows/P37009-Elon-Musk.jpg (Caused by SSLError(SSLCertVerificationError(1, '[SSL: CERTIFICATE_VERIFY_FAILED] certificate verify failed: unable to get local issuer certificate (_ssl.c:1006)'))), remaining retry times: 2\n",
            "ERROR:downloader:Exception caught when downloading file https://apidyn.royalsociety.org/images/fellows/P37009-Elon-Musk.jpg, error: HTTPSConnectionPool(host='apidyn.royalsociety.org', port=443): Max retries exceeded with url: /images/fellows/P37009-Elon-Musk.jpg (Caused by SSLError(SSLCertVerificationError(1, '[SSL: CERTIFICATE_VERIFY_FAILED] certificate verify failed: unable to get local issuer certificate (_ssl.c:1006)'))), remaining retry times: 1\n",
            "ERROR:downloader:Exception caught when downloading file https://apidyn.royalsociety.org/images/fellows/P37009-Elon-Musk.jpg, error: HTTPSConnectionPool(host='apidyn.royalsociety.org', port=443): Max retries exceeded with url: /images/fellows/P37009-Elon-Musk.jpg (Caused by SSLError(SSLCertVerificationError(1, '[SSL: CERTIFICATE_VERIFY_FAILED] certificate verify failed: unable to get local issuer certificate (_ssl.c:1006)'))), remaining retry times: 0\n",
            "ERROR:downloader:Response status code 403, file https://www.ccn.com/wp-content/uploads/2019/04/elon-musk-tesla-red.jpg\n",
            "ERROR:downloader:Response status code 400, file https://www.indy100.com/media-library/related-video-elon-musk-attacks-sir-keir-starmer-over-grooming-gangs-scandal.jpg\n",
            "ERROR:downloader:Response status code 400, file https://www.alternet.org/media-library/donald-trump-and-elon-musk-watch-the-launch-of-the-sixth-test-flight-of-the-spacex-starship-rocket-in-brownsville-texas-u-s.jpg\n"
          ]
        },
        {
          "output_type": "stream",
          "name": "stdout",
          "text": [
            "Image crawling completed.\n",
            "Number of images downloaded: 287\n",
            "Saved: data/positive/b30d5984cc2c4f74a9b1b9f31e2124a4.jpg\n",
            "Saved: data/positive/41d04f1c6d3a4e0f97fa24b81880bbd7.jpg\n",
            "No face detected in 000274.jpg. Skipping.\n",
            "Saved: data/positive/2ee5cf7d2bbd42b99e553d5cb0e78e40.jpg\n",
            "Saved: data/positive/f90dc439357d47de85e38a4c1e16a531.jpg\n",
            "Saved: data/positive/7702ef7f4de540cbbcc4cac2a9ba8188.jpg\n",
            "Saved: data/positive/1e7dafb58629453f971d397a271be9a8.jpg\n",
            "Saved: data/positive/9a0393fcb8c444f8aeb2a607d60b9289.jpg\n",
            "Saved: data/positive/73f9beea1f5d4aefbc9c11178d8627fb.jpg\n",
            "Saved: data/positive/76be7006b21246e78cf20b5bd9a658fb.jpg\n",
            "Saved: data/positive/0efb792b99454cdcb45a8ba922ff3b9a.jpg\n",
            "Saved: data/positive/512f162a96084af58b660e3d5bc2127e.jpg\n",
            "Saved: data/positive/8c3d617e7546424db4eecbd7258a1f40.jpg\n",
            "Saved: data/positive/085833a858e54676b5e2ec64413314f9.jpg\n",
            "No face detected in 000284.jpg. Skipping.\n",
            "Saved: data/positive/5c28375677134442824b2ad010604be9.jpg\n",
            "Saved: data/positive/c77e669998d34e458eab52e8a0e29805.jpg\n",
            "No face detected in 000155.jpg. Skipping.\n",
            "Saved: data/positive/0283882fe5d84c48b0475f3c00add946.jpg\n",
            "Saved: data/positive/31ee7227086d4b54a39b61a233ca6398.jpg\n",
            "Saved: data/positive/898919d14abf49208beed60d9e11e27c.jpg\n",
            "Saved: data/positive/0a0828693adb4cbdb9a34a7037282a06.jpg\n",
            "Saved: data/positive/a2742617ad2949b2a52dd7b1d92feb50.jpg\n",
            "Saved: data/positive/ed3ef875cc0d402f8716c0e4076260ab.jpg\n",
            "Saved: data/positive/4db81b1a71d64be2a93240f381b0c058.jpg\n",
            "Saved: data/positive/7a115e7fd81841e38b644179cc303739.jpg\n",
            "Saved: data/positive/f40e79372b634602a45c60313e35cd83.jpg\n",
            "Saved: data/positive/530aadd93a034b9bbc24ac6ab7a2dd96.jpg\n",
            "Saved: data/positive/bbad01c59b38415792c19398cc16fe6b.jpg\n",
            "Saved: data/positive/64d296091cca4f8e99cbda4e9a16f52c.jpg\n",
            "Saved: data/positive/9d3137778e7f4fd2a80e69f921da7713.jpg\n",
            "No face detected in 000287.jpg. Skipping.\n",
            "Saved: data/positive/52d78a9fae4c49e28f85bf7487f1bbec.jpg\n",
            "Saved: data/positive/8ee2d90935e64f51b885c5014247a7ea.jpg\n",
            "Saved: data/positive/aba9e5d38c5a4f54a22dc915e13de885.jpg\n",
            "Saved: data/positive/c114d5c621ba4082a2e5de8f0782e2f8.jpg\n",
            "Saved: data/positive/579e56130d0f45a0a492e36b05575a54.jpg\n",
            "Saved: data/positive/87dcf401e8364f829a5d77830e891899.jpg\n",
            "Saved: data/positive/12bbfb644f5a49fc9a8bf74fadf56771.jpg\n",
            "Saved: data/positive/4c176ffab2ba4a4688d8679860d3cc92.jpg\n",
            "Saved: data/positive/1cd525748c73457ebc540b8a0b9d10fb.jpg\n",
            "Saved: data/positive/ced939632e934212bade28164145d678.jpg\n",
            "Saved: data/positive/bdab60fa7ff44069af86816c958c162c.jpg\n",
            "Saved: data/positive/27f0e0ece9d3485c9d130ec1730aa8e3.jpg\n",
            "Saved: data/positive/84b4204bdcf24547bb04a3c5ce6218e2.jpg\n",
            "Saved: data/positive/8339683c88784e2d90e528490775c7c3.jpg\n",
            "Saved: data/positive/287fbf9ce39647898e3b94a7e11f862e.jpg\n",
            "Saved: data/positive/3f1e1b45ac354d96b913a936aa2b0179.jpg\n",
            "Saved: data/positive/646b834a42b548c4b2d2850497a901a1.jpg\n",
            "Saved: data/positive/0cec0ab187eb4276aa5add5bf98a2709.jpg\n",
            "Saved: data/positive/435ba16d91364c12b0a7e20257954595.jpg\n",
            "Saved: data/positive/a841fc3898fc4631a504a2aad7a53108.jpg\n",
            "Saved: data/positive/88c024e877d245808a2b0ff6172e2a69.jpg\n",
            "Saved: data/positive/97297aa0d1294af290ba3109396ae8a1.jpg\n",
            "Saved: data/positive/41ab7ba34b2144248f7f248be5a6bca8.jpg\n",
            "Saved: data/positive/4b19d7c5bf50430f967424cf22f7d4f3.jpg\n",
            "Saved: data/positive/6ab2b83616dc4fa59698af56f1fb2f0f.jpg\n",
            "Saved: data/positive/00a495fbbd0842f7a5c30a597b18f301.jpg\n",
            "Saved: data/positive/80d55dc89b784cd99e10a2400140f0b1.jpg\n",
            "Saved: data/positive/8d4838c4066144dbb5a324dd812023b0.jpg\n",
            "Saved: data/positive/77ad1717738a439e9592c50c5f27bb1b.jpg\n",
            "Saved: data/positive/46a8b7bcf0f84e57b9dbd9584b05124a.jpg\n",
            "Saved: data/positive/abe2942e414d47f68a6fcd8d48096c15.jpg\n",
            "Saved: data/positive/20ff73d4f48b4535bd648e61cb6a2398.jpg\n",
            "Saved: data/positive/565826a368d34dd0aff76716b7eedd19.jpg\n",
            "Saved: data/positive/e8d2c90848154c98a9694bb30ff63da3.jpg\n",
            "Saved: data/positive/0d04d060a81c47978416beac002df9cd.jpg\n",
            "Saved: data/positive/e5cb51bbdbf84ded8b5adfca31f3722b.jpg\n",
            "Saved: data/positive/4fa8acc377e64352b6dda12b1162b702.jpg\n",
            "Saved: data/positive/76149393105041e8bbda993be33c0ba0.jpg\n",
            "Saved: data/positive/9c304f8258fd4c54acc97779b872f81e.jpg\n",
            "Saved: data/positive/7b7d72cd80d747f580b6337ddc9b5fbd.jpg\n",
            "Saved: data/positive/8f717bafa3fd44d8a5c42797ca585dff.jpg\n",
            "Saved: data/positive/49764f6c61a74e32803ff9cf48e93665.jpg\n",
            "Saved: data/positive/965d5310492d4316b5c71f69e1320587.jpg\n",
            "Saved: data/positive/16954d12c3b5463c9890345f43da4d72.jpg\n",
            "Saved: data/positive/02e17626250b4971a924ed5b34ca1c7f.jpg\n",
            "Saved: data/positive/8f00d07f276549e39c8d23b2c60856af.jpg\n",
            "Saved: data/positive/cbedbf124bf24ee889bb98ac2faf5ad6.jpg\n",
            "Saved: data/positive/c8eaa59cb176400f9804d6b50b86bab1.jpg\n",
            "Saved: data/positive/6302f0f73fcd402c9d677fffc11d712c.jpg\n",
            "Saved: data/positive/4501eec7ee62475b9258d74e039c5f87.jpg\n",
            "No face detected in 000281.jpg. Skipping.\n",
            "Saved: data/positive/4efd703f90854d739ae41bbd61ee7655.jpg\n",
            "Saved: data/positive/0090d796bab3497a84074f9b18daeb4d.jpg\n",
            "Saved: data/positive/9868df01a6b84d28af6c8f40e97a7546.jpg\n",
            "Saved: data/positive/cff86acfa4054e47a3d0cc2f342dfe84.jpg\n",
            "Saved: data/positive/72b92250f0894cd7b7abba1f6a0ea115.jpg\n",
            "Saved: data/positive/edbf470c3efc42aa85661c507183fc52.jpg\n",
            "Saved: data/positive/75ac2b964b9f48b9836bfba5910aa7cb.jpg\n",
            "Saved: data/positive/172e6ac1e5c0404d945730fb622025a1.jpg\n",
            "Saved: data/positive/ab960107a6614fbe8ef8c4e90593d928.jpg\n",
            "Saved: data/positive/ace5ed84f4924bf19c3d639c7732c882.jpg\n",
            "Saved: data/positive/c7e60557a87e480db97657e761c68873.jpg\n",
            "Saved: data/positive/e4f73f6174e442aea99f3068ae8e9f21.jpg\n",
            "Saved: data/positive/2505e1d3faa14e3eb3fdc7287a4967c7.jpg\n",
            "Saved: data/positive/93e3248143d74fbcb1ed0b42c4b7d6de.jpg\n",
            "Saved: data/positive/3ae854d1c658482fbf3455913c76bad5.jpg\n",
            "Saved: data/positive/1eaf649577e143f394716b03dfde62a0.jpg\n",
            "Saved: data/positive/67018f4303154ae9ae80dd59806f3158.jpg\n",
            "Saved: data/positive/4f5b745e062b4dcda8b502e1922f86c7.jpg\n",
            "Saved: data/positive/2befef5af2a6497c9d2b9c63d7c9e634.jpg\n",
            "Saved: data/positive/64f0b37a461e4458b34cbbe5432fbf8b.jpg\n",
            "Saved: data/positive/b2562564546f460e9c591e4ca2329449.jpg\n",
            "Saved: data/positive/8c209dbf85c14a8e80404b7e0b458f82.jpg\n",
            "Saved: data/positive/d94d59f137c8417bba2d9c2e09bd39f6.jpg\n",
            "Saved: data/positive/898760b155b64449a02839d158978529.jpg\n",
            "Saved: data/positive/5005f3d900444be09ca26bb22c2eb553.jpg\n",
            "Saved: data/positive/5b76e8ac1a694094b9006d0676ae0465.jpg\n",
            "Saved: data/positive/256a71eb766548999b54952326f70d45.jpg\n",
            "Saved: data/positive/547c4f79bba04fbf9aa38131a43968ee.jpg\n",
            "Saved: data/positive/33b10f7d235d4243a48b5ec76deba387.jpg\n",
            "Saved: data/positive/775206e855c842bba679d31d00c608de.jpg\n",
            "Saved: data/positive/d69d9c3cfc63466bae410dee358dfd6a.jpg\n",
            "Saved: data/positive/00890015d2f143baa025b3e550a81604.jpg\n",
            "Saved: data/positive/38bcc55be4ee4eab9240255740116097.jpg\n",
            "Saved: data/positive/5ff6c86e86974c828a12146be64c30e5.jpg\n",
            "Saved: data/positive/25a4419a701c433e8fad47c7d2940ac2.jpg\n",
            "Saved: data/positive/efcb303481624160907f2212790369bb.jpg\n",
            "Saved: data/positive/3d60b1c756fc4fba8597f5db244f336d.jpg\n",
            "Saved: data/positive/8b0d34f86e58499f8a4cbfbef8169f39.jpg\n",
            "No face detected in 000283.jpg. Skipping.\n",
            "Saved: data/positive/51c7acda139740f69fa7cc4bd820ed9a.jpg\n",
            "Saved: data/positive/c17b7a4222e54ea7bdb8f08027f93884.jpg\n",
            "Saved: data/positive/11395f11b9964657a1cd7d5579e38cbc.jpg\n",
            "Saved: data/positive/518c50c0f60549e682491ea20bbc0476.jpg\n",
            "Saved: data/positive/c448c07ea4e749a9b19cef7925f8ea8b.jpg\n",
            "Saved: data/positive/1f133a7be16045ad8a0d1abc5d939171.jpg\n",
            "Saved: data/positive/c30afe94270844f9a1ac815283960dbd.jpg\n",
            "Saved: data/positive/a633c1e04f4e41e5b8b89ad590f1f44b.jpg\n",
            "Saved: data/positive/1c75c7fd252d4f8fbc20f56c9f188e52.jpg\n",
            "No face detected in 000278.jpg. Skipping.\n",
            "Saved: data/positive/43b66ac690734e9bb095f81e0ea06a04.jpg\n",
            "Saved: data/positive/859cda891d0847d393467e24bfe1e681.jpg\n",
            "Saved: data/positive/cf57d1cf3f804c3a8c11bea52287a199.jpg\n",
            "Saved: data/positive/de5dcdabed994785aa260381a66541ad.jpg\n",
            "Saved: data/positive/5f92f93562784914bf860d90160da2ac.jpg\n",
            "Saved: data/positive/47b6a13c5919405382fbd3bc1a632186.jpg\n",
            "Saved: data/positive/0ee5a3ca1cf34811abfb56ef945ed0ff.jpg\n",
            "Saved: data/positive/743a3c1b192a48399f448b03ea481408.jpg\n",
            "Saved: data/positive/f0dc8ea7ea7b4f1096b8ede5bd72637f.jpg\n",
            "Saved: data/positive/62ad94bfa2204bacb43b1b3bb53cfc8c.jpg\n",
            "Saved: data/positive/3bb4035b426a4c209f51f24c0a2cce5d.jpg\n",
            "Saved: data/positive/12c167b56c4f4be0a94cc01583615419.jpg\n",
            "Saved: data/positive/94aaafaef0854cef94a068370a24e95b.jpg\n",
            "Saved: data/positive/f08ad376b72b4dbea0130cde49db05e4.jpg\n",
            "Saved: data/positive/d5f436bce25a48cfbaab51f2f91d5814.jpg\n",
            "Saved: data/positive/2447e303800d464c9c23e8df30230fa2.jpg\n",
            "Saved: data/positive/f089398281ac4fff83771ffc8ec9c4d4.jpg\n",
            "Saved: data/positive/a686c3c1b4c349919edcf75a50168c97.jpg\n",
            "Saved: data/positive/941d958bcd5a472d9a5cfaf3e1c28ae6.jpg\n",
            "Saved: data/positive/d6ef67ac18c54f3498b13469c166a238.jpg\n",
            "Saved: data/positive/1be96b5bf4444f49a90969c1638f9a5c.jpg\n",
            "Saved: data/positive/346e0ed032454710852f85372e755a2a.jpg\n",
            "Saved: data/positive/933a9e481a8947efb38ac90e88b585f2.jpg\n",
            "Saved: data/positive/ebda29c7fba7432ba54325f9e21ed3e2.jpg\n",
            "Saved: data/positive/20638a8fa24542288f1c36e008a2707c.jpg\n",
            "Saved: data/positive/3eab45e6667d407c96616d87aa27afb5.jpg\n",
            "Saved: data/positive/8682095fabd248b89397398a460516cf.jpg\n",
            "Saved: data/positive/cd681aad529c4177953beb071eb58596.jpg\n",
            "Saved: data/positive/40b4336961824ef88985a17adf8e224f.jpg\n",
            "Saved: data/positive/846cb476560c43279fb871119d0cc2b1.jpg\n",
            "Saved: data/positive/2b68a46e8fc44a47a489bf5e4c370690.jpg\n",
            "Saved: data/positive/4debbcb0d58e433c9ba8d20b682bf023.jpg\n",
            "Saved: data/positive/3f1382125daa4cdea9dd486f55445fb5.jpg\n",
            "Saved: data/positive/e1a5db2b6ddb430486e7841176908ae0.jpg\n",
            "Saved: data/positive/bd37c110065a49b4864b583556c18cc1.jpg\n",
            "Saved: data/positive/1fc2e9061496415b8f97433711a7e98b.jpg\n",
            "Saved: data/positive/924998342894467f9d4f1b886f8dc09d.jpg\n",
            "Saved: data/positive/a40e2bb4a4db420c96cdce4c68c0f5c4.jpg\n",
            "Saved: data/positive/7a45ee72246b4c4a9074fa81ac1a8c8b.jpg\n",
            "Saved: data/positive/00c2ed4af5b54b3a9c7df3fda71efe4d.jpg\n",
            "Saved: data/positive/8be562a99eec493094f87f253f4b73fc.jpg\n",
            "Saved: data/positive/8bd13eee1969481f9bd86cd122b2e404.jpg\n",
            "Saved: data/positive/a908981a605b477481096e325188c3a9.jpg\n",
            "Saved: data/positive/497d93e376a5428289ae7b9b6735feaf.jpg\n",
            "Saved: data/positive/bbe4e3ef6db04e9683e63dc0f5a30aa0.jpg\n",
            "Saved: data/positive/735c9b6ec37a49bfad4b711473bf99f7.jpg\n",
            "Saved: data/positive/fe26be64e7c242849c6ca843228b9439.jpg\n",
            "Saved: data/positive/e3c75042e53d445da19d15d5cb378365.jpg\n",
            "Saved: data/positive/4d972e844c404c31b19600353aa3d031.jpg\n",
            "Saved: data/positive/04683d95fcfd4a009dae2896cfc1de6f.jpg\n",
            "Saved: data/positive/56ffd9081dde40ab84afce8ef6cf2fdd.jpg\n",
            "Saved: data/positive/059d919d238947518406faecc7424d7a.jpg\n",
            "Saved: data/positive/bca44d75963b4aa0a4aa266d2fac0f61.jpg\n",
            "Saved: data/positive/2cce3e735a4e4541b4f9fe29488a287b.jpg\n",
            "Saved: data/positive/9b569ebb7c6f4367aa4e522a2e7a68e7.jpg\n",
            "Saved: data/positive/6bfec9bf175041a5837dc82fa39183de.jpg\n",
            "Saved: data/positive/abebf7837e75422587f746fe4a733297.jpg\n",
            "Saved: data/positive/141297775382499cb8732f1dfe67912e.jpg\n",
            "Saved: data/positive/ecc94e7a8a294698b9ce8ad82e8658d3.jpg\n",
            "Saved: data/positive/bf6a7495addf453881d7db80ea857947.jpg\n",
            "Saved: data/positive/dea4cf3cbaaa4fd5a653613aad88e7cf.jpg\n",
            "Saved: data/positive/b15727c988b347feabe7662d070bf62a.jpg\n",
            "Saved: data/positive/9a34895b2d844ace9df40d81fdc2fcb1.jpg\n",
            "Saved: data/positive/e1e42f48d9464908a9e7cad1d6a556a1.jpg\n",
            "Saved: data/positive/3cbf3d78e34947b0801e90fe680088f8.jpg\n",
            "Saved: data/positive/c0dbffb1176c498e96050b40afe62cc8.jpg\n",
            "Saved: data/positive/c9b24f06706a457f9efde804136ac887.jpg\n",
            "Saved: data/positive/a506064487b7455090dd7d55ea50f0cd.jpg\n",
            "Saved: data/positive/1d278ed0b2a04364990c679a8b9f1738.jpg\n",
            "Saved: data/positive/9c53c3b3bc9c4778a4b9f5fa1438408b.jpg\n",
            "Saved: data/positive/41d9120c80f24c39bb6f4c9d21ebe241.jpg\n",
            "Saved: data/positive/b433a845df934486b171b2616d13f9ca.jpg\n",
            "Saved: data/positive/0a099612a99a4046b37e562146389371.jpg\n",
            "Saved: data/positive/ca36a5d989ea4449af912e5b29a45c30.jpg\n",
            "Saved: data/positive/1bd32cf3e3e547c391a6d96678c21ee6.jpg\n",
            "Saved: data/positive/22a9908214bb4d42b8edeeffbb7eae36.jpg\n",
            "Saved: data/positive/70ef0d169fc0478c90d2c1b6c3de7187.jpg\n",
            "Saved: data/positive/d6ae40e8145841879c7e6b074b7aa2a9.jpg\n",
            "Saved: data/positive/bfe80d5c43e3422787f44032694ef464.jpg\n",
            "Saved: data/positive/bf73194e68d849f8bc9db0363f16a943.jpg\n",
            "Saved: data/positive/d802118f4b5a43b8a8e42131d3cce904.jpg\n",
            "Saved: data/positive/59249834320046b4abb4dd7c49008c4f.jpg\n",
            "Saved: data/positive/219488a624c3404bbe2c9257bc8018a3.jpg\n",
            "Saved: data/positive/4044bdcaa39944d5a84c6d69c52555dd.jpg\n",
            "Saved: data/positive/6e4b8af61c2c482eacde39ae94b206a5.jpg\n",
            "Saved: data/positive/d3e075c9167e4162b2edb98ff83fb3c5.jpg\n",
            "Saved: data/positive/29881b4d64ad44e3baeef524015938a3.jpg\n",
            "Saved: data/positive/8d2da403789d4bfb94686f8afa6f0294.jpg\n",
            "Saved: data/positive/d974befa591b43fba7ecb43a57eb4277.jpg\n",
            "Saved: data/positive/a2e4de8794bf4925973f587146c5006a.jpg\n",
            "No face detected in 000271.jpg. Skipping.\n",
            "Saved: data/positive/81829735dee042cdb0387966a4c2f245.jpg\n",
            "Saved: data/positive/508bff332a7a4de18a514bf4035eb2c4.jpg\n",
            "Saved: data/positive/472dfeaa2ce240a58021e4de222dc45b.jpg\n",
            "Saved: data/positive/bcff5491e3124242bd6f1b0530f7d479.jpg\n",
            "Saved: data/positive/c191d687adc64352be7ce1b5582d9d06.jpg\n",
            "Saved: data/positive/b9b70e0b90a642c1aacff589b9a1e581.jpg\n",
            "Saved: data/positive/2567e16c26c740e79810534ea3626e60.jpg\n",
            "Saved: data/positive/53fc65edb17d46c6922e1385aca69922.jpg\n",
            "Saved: data/positive/b17cd08c961641faae176ef809797e71.jpg\n",
            "Saved: data/positive/f69c31074108498ea5e699d00c96fe06.jpg\n",
            "Saved: data/positive/4870474fbc7e4f5f994ae537e0a6708f.jpg\n",
            "Saved: data/positive/88e1d5381c174229bab749124c1d3472.jpg\n",
            "Saved: data/positive/e63d0328c0d7477ea6e62a6ae04169b5.jpg\n",
            "Saved: data/positive/c0f50c81d10a4bb4945eac348af8c97d.jpg\n",
            "Saved: data/positive/52ea1ff0ebf7494384317427572c37cc.jpg\n",
            "Saved: data/positive/55106be077664f6a8146a8b79aacc84c.jpg\n",
            "Saved: data/positive/e358324600b340a18973a6f7fd12b111.jpg\n",
            "Saved: data/positive/1674aec34e5b4dafb5ee7b5d821d3cc6.jpg\n",
            "No face detected in 000275.jpg. Skipping.\n",
            "Saved: data/positive/54684073ba7b46cd97f97d8959a37e2d.jpg\n",
            "Saved: data/positive/8416886fb5bf4a63bc7999e9d7f1a9df.jpg\n",
            "Saved: data/positive/0ca47fc2391942f4bfd2bd6c229d3dc8.jpg\n",
            "Saved: data/positive/2c8114c3d2bc4f16b507e74fc3c0814e.jpg\n",
            "Saved: data/positive/647166cbd27c496398be27fe2040c119.jpg\n",
            "Saved: data/positive/56e0f7c651cc45e296ebf6fbf6317759.jpg\n",
            "Saved: data/positive/6cf54f24c47542118a8faebbe28298a4.jpg\n",
            "Saved: data/positive/cc36510ced37427e891d2625876d7b99.jpg\n",
            "Saved: data/positive/0e5a37bf77784150a2eda5aedd5c169d.jpg\n",
            "Saved: data/positive/95309b7226c54b0cb600c101c0ee32d2.jpg\n",
            "Saved: data/positive/9bac58cdc19740ed957a46767e2a02af.jpg\n",
            "Saved: data/positive/2926bff674e7478f9bcbc3cf554708af.jpg\n",
            "Saved: data/positive/f99d9e5bbfdd42cfa723b7c0157e1a94.jpg\n",
            "Saved: data/positive/6c69a8c80ac446809e99137c596fbcba.jpg\n",
            "Saved: data/positive/f387ba452a8f41a9a869b9c9f02cadcc.jpg\n",
            "Saved: data/positive/a08132a35f844004af7920cbb90adca5.jpg\n",
            "Saved: data/positive/20056b0238df4a82a88966be80dcbde4.jpg\n",
            "Saved: data/positive/1ae366a0d8f54ab0bb038dcb1e61d044.jpg\n",
            "Saved: data/positive/45616217bdaa42ce91689c4b0796d761.jpg\n",
            "Saved: data/positive/c8a2fb1b77314a559d9d136bd1d71f7a.jpg\n",
            "Saved: data/positive/2826a8f841094299a113a27f9d6bbbdd.jpg\n",
            "Saved: data/positive/974929b7bcc9499bad5509c91bc029e8.jpg\n",
            "Saved: data/positive/963be2ccb8454c37af35198d10645e81.jpg\n",
            "Saved: data/positive/f3ddf1faf73e4711b00e522b12cbedb6.jpg\n",
            "Saved: data/positive/eecb0d63d10540ceb32d3ab042adc75b.jpg\n",
            "Saved: data/positive/153fccece6514409b7930965e71896da.jpg\n",
            "Saved: data/positive/34b494250f2d4efea640e2d2435da435.jpg\n",
            "Saved: data/positive/ac253e1978f7406499983869798f0971.jpg\n",
            "Saved: data/positive/d591b577e763446488cb07c9f345ca21.jpg\n",
            "Saved: data/positive/a41d294c804d481c8663ee14664c007f.jpg\n",
            "Saved: data/positive/2fb3b552bffc43e98f9b5c2a28cdc9bb.jpg\n",
            "Saved: data/positive/3a80cbde57d843bb91c9c80bf7827326.jpg\n",
            "Saved: data/positive/b0d2d6d533bf49769e1c136997a0a9dd.jpg\n",
            "No face detected in 000253.jpg. Skipping.\n",
            "Saved: data/positive/9d883052201449e791d5bf11d6cac18b.jpg\n",
            "Saved: data/positive/19163f475fdb4726b1d66f5cb30c081b.jpg\n",
            "Saved: data/positive/7d98128ec41c4c69b9ff922d1569b436.jpg\n",
            "Saved: data/positive/f8dab8b41e1e48589433a52af08eb5cb.jpg\n",
            "Saved: data/positive/61f3453f21ed4f38a020a07fe645bf1d.jpg\n",
            "Saved: data/positive/713ca80960874cf1b8d57d7b7ad04533.jpg\n",
            "Saved: data/positive/cf3945fbcda44688a2406497ad5dd2b1.jpg\n",
            "Saved: data/positive/6e2e1cab181e48639322529528ce6c62.jpg\n",
            "Saved: data/positive/383b14c04ba74d93b719b4c6eeb09d9a.jpg\n",
            "Saved: data/positive/644b02a6dda1457facb4cf3969b3974a.jpg\n",
            "Saved: data/positive/460d5ae230bc4a2caabedb27277b7677.jpg\n",
            "Total images saved: 277\n",
            "Temporary images folder removed.\n"
          ]
        }
      ],
      "execution_count": 7
    },
    {
      "cell_type": "code",
      "source": [
        "# Install necessary packages\n",
        "!pip install icrawler Pillow mtcnn\n",
        "\n",
        "# Import required modules\n",
        "import os\n",
        "from icrawler.builtin import BingImageCrawler\n",
        "from PIL import Image, ImageOps\n",
        "from mtcnn import MTCNN\n",
        "import numpy as np\n",
        "import shutil\n",
        "import uuid\n",
        "\n",
        "def scrape_and_store_anchor_images(person_name, num_images, anchor_path):\n",
        "    \"\"\"\n",
        "    Scrapes images of a specified person and saves all processed images to the anchor path.\n",
        "\n",
        "    Parameters:\n",
        "    - person_name (str): The name of the person to search for.\n",
        "    - num_images (int): The number of images to download.\n",
        "    - anchor_path (str): The directory path where anchor images will be saved.\n",
        "    \"\"\"\n",
        "\n",
        "    # Ensure the anchor directory exists\n",
        "    if not os.path.exists(anchor_path):\n",
        "        os.makedirs(anchor_path)\n",
        "        print(f\"Created directory: {anchor_path}\")\n",
        "    else:\n",
        "        print(f\"Directory already exists: {anchor_path}\")\n",
        "\n",
        "    # Initialize the Bing crawler to download images\n",
        "    crawler = BingImageCrawler(storage={\"root_dir\": \"temp_images\"})\n",
        "    print(f\"Starting image crawl for '{person_name}' with max_num={num_images}\")\n",
        "    crawler.crawl(keyword=person_name, max_num=num_images)\n",
        "    print(\"Image crawling completed.\")\n",
        "\n",
        "    # List all downloaded image files\n",
        "    image_files = [f for f in os.listdir(\"temp_images\") if f.lower().endswith(('jpg', 'jpeg', 'png'))]\n",
        "    print(f\"Number of images downloaded: {len(image_files)}\")\n",
        "\n",
        "    if not image_files:\n",
        "        raise FileNotFoundError(\"No images were downloaded. Please refine your search query.\")\n",
        "\n",
        "    # Initialize MTCNN for face detection\n",
        "    detector = MTCNN()\n",
        "    saved_count = 0\n",
        "\n",
        "    for idx, image_file in enumerate(image_files):\n",
        "        image_path = os.path.join(\"temp_images\", image_file)\n",
        "        try:\n",
        "            # Open and convert image to RGB\n",
        "            downloaded_image = Image.open(image_path).convert(\"RGB\")\n",
        "            image_np = np.array(downloaded_image)\n",
        "\n",
        "            # Detect faces in the image\n",
        "            faces = detector.detect_faces(image_np)\n",
        "            if faces:\n",
        "                # Get the first detected face's bounding box\n",
        "                x, y, width, height = faces[0][\"box\"]\n",
        "\n",
        "                # Expand the bounding box by 30%\n",
        "                expansion_factor = 0.3\n",
        "                x_expand = int(width * expansion_factor)\n",
        "                y_expand = int(height * expansion_factor)\n",
        "\n",
        "                # Calculate new bounding box coordinates with expansion\n",
        "                x_new = max(0, x - x_expand)\n",
        "                y_new = max(0, y - y_expand)\n",
        "                width_new = min(downloaded_image.width, x + width + x_expand) - x_new\n",
        "                height_new = min(downloaded_image.height, y + height + y_expand) - y_new\n",
        "\n",
        "                # Crop the expanded face region\n",
        "                cropped_face = downloaded_image.crop((x_new, y_new, x_new + width_new, y_new + height_new))\n",
        "\n",
        "                # Pad to maintain aspect ratio\n",
        "                max_side = max(cropped_face.size)\n",
        "                padded_face = ImageOps.expand(\n",
        "                    cropped_face,\n",
        "                    border=(max_side - cropped_face.width) // 2,\n",
        "                    fill=(0, 0, 0)\n",
        "                )\n",
        "\n",
        "                # Resize to 250x250 pixels\n",
        "                resized_face = padded_face.resize((250, 250))\n",
        "\n",
        "                # Generate a unique filename and save the image to the anchor path\n",
        "                filename = f\"{uuid.uuid4().hex}.jpg\"\n",
        "                save_path_full = os.path.join(anchor_path, filename)\n",
        "                resized_face.save(save_path_full)\n",
        "\n",
        "                # print(f\"Saved: {save_path_full}\")\n",
        "                saved_count += 1\n",
        "            else:\n",
        "                print(f\"No face detected in {image_file}. Skipping.\")\n",
        "\n",
        "        except Exception as e:\n",
        "            print(f\"Error processing {image_file}: {e}\")\n",
        "\n",
        "    print(f\"Total images saved to anchor: {saved_count}\")\n",
        "\n",
        "    # Clean up temporary images\n",
        "    shutil.rmtree(\"temp_images\")\n",
        "    print(\"Temporary images folder removed.\")\n",
        "\n",
        "# Example usage\n",
        "ANCHOR_PATH = os.path.join('data', 'anchor')\n",
        "scrape_and_store_anchor_images(\n",
        "    person_name=\"Elon Musk\",\n",
        "    num_images=400,  # Adjust as needed\n",
        "    anchor_path=ANCHOR_PATH\n",
        ")\n"
      ],
      "metadata": {
        "colab": {
          "base_uri": "https://localhost:8080/"
        },
        "id": "pbWqWXGAaTWI",
        "outputId": "78534dd3-c9de-4ad0-cc97-3926896cb669"
      },
      "execution_count": 8,
      "outputs": [
        {
          "output_type": "stream",
          "name": "stdout",
          "text": [
            "Requirement already satisfied: icrawler in /usr/local/lib/python3.11/dist-packages (0.6.9)\n",
            "Requirement already satisfied: Pillow in /usr/local/lib/python3.11/dist-packages (11.1.0)\n",
            "Requirement already satisfied: mtcnn in /usr/local/lib/python3.11/dist-packages (1.0.0)\n",
            "Requirement already satisfied: beautifulsoup4 in /usr/local/lib/python3.11/dist-packages (from icrawler) (4.12.3)\n",
            "Requirement already satisfied: bs4 in /usr/local/lib/python3.11/dist-packages (from icrawler) (0.0.2)\n",
            "Requirement already satisfied: lxml in /usr/local/lib/python3.11/dist-packages (from icrawler) (5.3.0)\n",
            "Requirement already satisfied: pyyaml in /usr/local/lib/python3.11/dist-packages (from icrawler) (6.0.2)\n",
            "Requirement already satisfied: requests in /usr/local/lib/python3.11/dist-packages (from icrawler) (2.32.3)\n",
            "Requirement already satisfied: six in /usr/local/lib/python3.11/dist-packages (from icrawler) (1.17.0)\n",
            "Requirement already satisfied: joblib>=1.4.2 in /usr/local/lib/python3.11/dist-packages (from mtcnn) (1.4.2)\n",
            "Requirement already satisfied: lz4>=4.3.3 in /usr/local/lib/python3.11/dist-packages (from mtcnn) (4.3.3)\n",
            "Requirement already satisfied: soupsieve>1.2 in /usr/local/lib/python3.11/dist-packages (from beautifulsoup4->icrawler) (2.6)\n",
            "Requirement already satisfied: charset-normalizer<4,>=2 in /usr/local/lib/python3.11/dist-packages (from requests->icrawler) (3.4.1)\n",
            "Requirement already satisfied: idna<4,>=2.5 in /usr/local/lib/python3.11/dist-packages (from requests->icrawler) (3.10)\n",
            "Requirement already satisfied: urllib3<3,>=1.21.1 in /usr/local/lib/python3.11/dist-packages (from requests->icrawler) (2.3.0)\n",
            "Requirement already satisfied: certifi>=2017.4.17 in /usr/local/lib/python3.11/dist-packages (from requests->icrawler) (2024.12.14)\n",
            "Directory already exists: data/anchor\n",
            "Starting image crawl for 'Elon Musk' with max_num=400\n"
          ]
        },
        {
          "output_type": "stream",
          "name": "stderr",
          "text": [
            "ERROR:downloader:Exception caught when downloading file https://www.washingtonpost.com/wp-apps/imrs.php?src=https://arc-anglerfish-washpost-prod-washpost.s3.amazonaws.com/public/7GZY2GHEDQI6XCGFJ7LDQLCHZM.jpg, error: HTTPSConnectionPool(host='www.washingtonpost.com', port=443): Read timed out. (read timeout=5), remaining retry times: 2\n",
            "ERROR:downloader:Exception caught when downloading file https://www.washingtonpost.com/wp-apps/imrs.php?src=https://arc-anglerfish-washpost-prod-washpost.s3.amazonaws.com/public/7GZY2GHEDQI6XCGFJ7LDQLCHZM.jpg, error: HTTPSConnectionPool(host='www.washingtonpost.com', port=443): Read timed out. (read timeout=5), remaining retry times: 1\n",
            "ERROR:downloader:Exception caught when downloading file https://www.washingtonpost.com/wp-apps/imrs.php?src=https://arc-anglerfish-washpost-prod-washpost.s3.amazonaws.com/public/7GZY2GHEDQI6XCGFJ7LDQLCHZM.jpg, error: HTTPSConnectionPool(host='www.washingtonpost.com', port=443): Read timed out. (read timeout=5), remaining retry times: 0\n",
            "ERROR:downloader:Response status code 404, file https://upload.wikimedia.org/wikipedia/commons/thumb/4/49/Elon_Musk_2015.jpg\n",
            "ERROR:downloader:Response status code 520, file https://itrenting.com/wp-content/uploads/2017/04/elon-musk.jpg\n",
            "ERROR:downloader:Response status code 403, file https://www.theladders.com/wp-content/uploads/Elon_Musk.jpg\n",
            "ERROR:downloader:Exception caught when downloading file https://apidyn.royalsociety.org/images/fellows/P37009-Elon-Musk.jpg, error: HTTPSConnectionPool(host='apidyn.royalsociety.org', port=443): Max retries exceeded with url: /images/fellows/P37009-Elon-Musk.jpg (Caused by SSLError(SSLCertVerificationError(1, '[SSL: CERTIFICATE_VERIFY_FAILED] certificate verify failed: unable to get local issuer certificate (_ssl.c:1006)'))), remaining retry times: 2\n",
            "ERROR:downloader:Exception caught when downloading file https://apidyn.royalsociety.org/images/fellows/P37009-Elon-Musk.jpg, error: HTTPSConnectionPool(host='apidyn.royalsociety.org', port=443): Max retries exceeded with url: /images/fellows/P37009-Elon-Musk.jpg (Caused by SSLError(SSLCertVerificationError(1, '[SSL: CERTIFICATE_VERIFY_FAILED] certificate verify failed: unable to get local issuer certificate (_ssl.c:1006)'))), remaining retry times: 1\n",
            "ERROR:downloader:Exception caught when downloading file https://apidyn.royalsociety.org/images/fellows/P37009-Elon-Musk.jpg, error: HTTPSConnectionPool(host='apidyn.royalsociety.org', port=443): Max retries exceeded with url: /images/fellows/P37009-Elon-Musk.jpg (Caused by SSLError(SSLCertVerificationError(1, '[SSL: CERTIFICATE_VERIFY_FAILED] certificate verify failed: unable to get local issuer certificate (_ssl.c:1006)'))), remaining retry times: 0\n",
            "ERROR:downloader:Response status code 400, file https://www.indy100.com/media-library/related-video-elon-musk-attacks-sir-keir-starmer-over-grooming-gangs-scandal.jpg\n"
          ]
        },
        {
          "output_type": "stream",
          "name": "stdout",
          "text": [
            "Image crawling completed.\n",
            "Number of images downloaded: 244\n",
            "No face detected in 000143.jpg. Skipping.\n",
            "Total images saved to anchor: 243\n",
            "Temporary images folder removed.\n"
          ]
        }
      ]
    },
    {
      "cell_type": "code",
      "source": [
        "def preprocess(file_path):\n",
        "    # Read the file\n",
        "    byte_img = tf.io.read_file(file_path)\n",
        "    # Determine file extension and decode accordingly\n",
        "\n",
        "    img = tf.io.decode_jpeg(byte_img, channels=3)\n",
        "\n",
        "    img = tf.image.resize(img, (100, 100))\n",
        "    img = img / 255.0\n",
        "\n",
        "    return img\n"
      ],
      "metadata": {
        "id": "bRLSsFj7T3JF"
      },
      "execution_count": 9,
      "outputs": []
    },
    {
      "cell_type": "code",
      "source": [
        "import os\n",
        "\n",
        "# Check if directories exist\n",
        "print(\"Anchor directory exists:\", os.path.exists(ANC_PATH))\n",
        "print(\"Anchor directory contents:\", os.listdir(ANC_PATH) if os.path.exists(ANC_PATH) else \"Directory not found\")\n"
      ],
      "metadata": {
        "colab": {
          "base_uri": "https://localhost:8080/"
        },
        "id": "2rakAiS5YU-r",
        "outputId": "2129fc07-37ea-4a17-e2e2-3aa6418899c7"
      },
      "execution_count": 10,
      "outputs": [
        {
          "output_type": "stream",
          "name": "stdout",
          "text": [
            "Anchor directory exists: True\n",
            "Anchor directory contents: ['fcc15037fefc48d2bc7629424113783c.jpg', '8ab1da0e740843cd9873d05deeb3d3dd.jpg', 'f2021f40bd554592ba3361fa029f6304.jpg', '4a929d77957742a2a2463560f1311c1f.jpg', 'a1f215ab19314cde97352ae6db55200e.jpg', '2de94ba2acf94e5ba8f340d61e28ee44.jpg', '92c4cab5d7924d929ecd21862277e19e.jpg', 'e0bdfc6511794425937c67a68e186f08.jpg', 'f655c90e8ea3428294fb4055aa73f0d3.jpg', '7b9ba20548884e0b903270ed41f54ac6.jpg', '797d6da339d3457889ef698c6514758a.jpg', '7409517586cf495dbfcb81ca3059b6ec.jpg', 'b99c00fd9a9049939e50d74684de56d9.jpg', 'b2056fe2f90249b98f4926e6dd5f6a75.jpg', '30dbd0430b0548429cc28ee944d6a71b.jpg', 'd6971343a6d84ddba492d394468e59fb.jpg', 'a9fd95f9830341e2badb6717f59bab8d.jpg', '646e6080a49d43e3ae9c926bf8059b9d.jpg', '5ce4ab3195d74696b93d45fe35d7b13e.jpg', 'e5b5fdaed3c94604803a858900e2d1dc.jpg', '5e9d8fd6f018447fbb2b5888ed6f3fab.jpg', 'e44a7a5b275a4e6f9a96918c4bffc443.jpg', '234525fa146b46e0acb612bee74e53ff.jpg', 'de2dcf8855a24a62be84827d4e2c816f.jpg', '00fe398d6f66447ca7330cb0499c6da0.jpg', 'df8114d39323455c9cd7a77d28109437.jpg', '11504b7c869845d6b9a8542955421777.jpg', 'bc1e36496b124965ba927f76ada9aac6.jpg', '08c7aaadc7f5439098e7a8203094b958.jpg', '8a724a3d4b5043999fea63b853b5d200.jpg', 'c758258121434a3fa6d17eee44924e9e.jpg', 'ca3fb5d683274c32b1ca1f993be605b5.jpg', '47676f1ebf014bd791fcabf178df39ef.jpg', '13268050588f422bb5f2be57c51ec5f6.jpg', '199d6cbb5bef4011bfc70150521b6bb0.jpg', 'd9b7f3971dbf46a693efd5ad1b1fd02a.jpg', '2cc6ca63d7204400a9d589c654533d64.jpg', 'b465283ba27f4fd194b81762eec7b25c.jpg', 'bb71b0a590c046acb1ba0a388caa0d6a.jpg', 'be1f0e3abab04a42891dc920062e82bb.jpg', 'd0ecd4f4bb3840469ab7daa0de8a8235.jpg', 'bdcbed81aaf54d7ca96723defa4dd288.jpg', 'b2e087db52e5471084a06d0f1f6d7879.jpg', '4bea34c38bfe468bb6569bf34ab6d0f5.jpg', '88c883d7a5ed4379bdff21668580be67.jpg', '71351adcff0e4c389bab49be2e9bd27e.jpg', '03310b8ac6244c5db1554302dfcae70f.jpg', 'a8949aaae62f4d80b56f8bad26a3eed3.jpg', '292b227df4b44cb9bd4a76fdec72c4ac.jpg', 'dfe349e7bedd457dbb0ca37512ef1166.jpg', 'bd85585241fa4949b5f59bad5b035e6d.jpg', '6a41e83d081542a0ab62a44c6c16c7f0.jpg', 'f71794a4889f41c881bb7cfcfcd9903e.jpg', '7a20f82d95e44cbbb045ee7c018482a4.jpg', 'ef2830b63b0a4a198f9172f2e118e833.jpg', '1ce85c1b2c324f83b0f44076fc635e2d.jpg', '168300db6ff24e0fb404d8bd2fd36013.jpg', '6894c48c52224c6e9d3db1eebe09ddb4.jpg', '50ce8b1821284024a32ae49dcb2fa311.jpg', 'f7fcafcb1c5841c687719411f1c1c758.jpg', '433e99c71d1242cb8c0dd2d81139d7f7.jpg', '6f38577e8411461bb315aff6a220c838.jpg', '861165447afd4ae2bbfcdc76b804ae4d.jpg', 'bba0580f34774e5eae7854437a9e5193.jpg', '715524308e134578b49c396a8df40925.jpg', '123db2a143ce457991468ee69dde3837.jpg', '27c17aefb97d401ab6844de2fde8fc8f.jpg', 'bd953bd4d21c4bc594db1e7a748214b9.jpg', '9729204a055c4581a88277d389cdd5a5.jpg', '189747846b3f47c09826da6394b7e3b2.jpg', '09aa099c431f4a83950066d4465ab97a.jpg', 'c1abaa393b5f4bfcb7309191a733dae3.jpg', '0adb45173de14146a484695633813a17.jpg', 'ed5c19f365e645f69d39c09828317811.jpg', '24af3c88b83a43a4823c0b91e0f79cdd.jpg', 'f72c8846040e46de9b4906951c06a65d.jpg', 'dec8100fb90b4c87a1c7a331a897c04a.jpg', '9cfc7eb4db1648adb39cc2317d381fc1.jpg', 'd3a767f5a34a43c3a1edb1f4263225a2.jpg', 'ef9dddb7c5074289b11d1d706dd782df.jpg', 'b17579c32cec416ea3ee080fa23dee19.jpg', '438f4616eb594395be4cd47427896e42.jpg', '84b85cb5ef324b058db70af808a82594.jpg', '946ccb2008994c818636cf21b87cbab9.jpg', 'e42fefd104244841a56564432f25bcf8.jpg', 'b52e8c09a6ee46a3bffa8d647accee45.jpg', '092c778d96e84b32a87acf190cc2f035.jpg', '92ed68e263f543e0b2f17f4edf097efd.jpg', 'af7379638a9f480193ac6969c2119394.jpg', 'c58af8e7c1364cac8ae6a08ad6a6a6fa.jpg', '5d43dab98206447984b56ac6f123e0ec.jpg', '4626d0b3c029474397955f2f4245037e.jpg', 'c1e33b169c604c3c910ffdd9d41b5c66.jpg', '62703d0d2a284113bb9b05d7180ea0bd.jpg', '78f63fde095042e494f24dec4f7b9fdd.jpg', '33c5dc22ea77461b84511c3131dfe49d.jpg', 'def6bbcd973040b5ae4415643dcb6dd1.jpg', '2a8978dbfea34104ba19353e8a7f3d17.jpg', 'af03b9bab0e04e248d6a5cb73452adcd.jpg', 'd560df55cb364094a8699ba7a7c7917b.jpg', 'f0431cb292ce42848a05316a01ae609d.jpg', '0bb97e980160481ca70039dd646ab57e.jpg', 'bb7155e36f47404f89b7cd340f281627.jpg', '0adf61e05ac64f269eec3d4d9560a0a3.jpg', '7eb9febd49df43c498432ea00402e3ea.jpg', 'eb4878b350c146f0a1e01e3f5a23a070.jpg', '7e1372530b0e491ebcffe0356c1a5916.jpg', '89f1e40f17414c58a0cffd5afcfe4298.jpg', '95e45a2112614e058ebc372f86249a81.jpg', '5b92d28fe9f24b4da987a3c13c2ff1fd.jpg', '0b2e47d3b57f4381b258b4a8f7e6744d.jpg', '3f7f6ebeed1b4d359c36f50af6cf592d.jpg', '90dbf21333524f68bf3ab9acd4407f9f.jpg', '436bb746ffb54eddac52e2720d022b46.jpg', '30fc1827a61844f7806b73363b597abd.jpg', 'bec559f9b23c4956a64fa9f50c6eb33e.jpg', '7f38634c9399410b932132a93edf70b2.jpg', '17f1427a509c4f3eb1eb25bb0659f41b.jpg', '075960e52b4c4e73bbbfd040a55b26af.jpg', '9a551db36ded4d06aa6ca7ebda91acc8.jpg', '450f698b349d4d788c567f6b34a25dfb.jpg', 'c059911387d5463f80fbe846c031f06a.jpg', '528fc17696504051a78ba76ab8857a9f.jpg', '943a178b3e72487091ba84f87ef042e0.jpg', '038a2269155d4df1bdf96f58ce7059e8.jpg', '977a0e32ff3e48f995917c7160e7a651.jpg', '78a21472dbc2463db5aa89a7a4354887.jpg', '6f0b6752a0984257b93fb3466f206ac6.jpg', 'ac147ed4a2174455bed278d1424554e7.jpg', '49fc646679ea49a99285976f3608f24a.jpg', 'e427b4b4321743d5a9fd641fb63347cb.jpg', 'cf5433b0d51340df8b378ab9ce899af0.jpg', 'a16e4c886aa0455bbd8c938d22e7417d.jpg', '417a1fd41e044effa1d1b59aef9417d8.jpg', '5bd2e7b2b25148d5842acbe6a107b8b6.jpg', '65f4596a9c9b416a94e55788959571c8.jpg', '9825552b83764159b3d60ea82b46d9f0.jpg', '94127dde15354ed6b777f0c1c4785d79.jpg', 'b1d90e33f53047e3865debddbadb6719.jpg', '9e4a886fc12f4fbab370df9d0df1143a.jpg', '8681c67abe9a4f6d85bcf791a1017292.jpg', '31d0e89b62354d188691b6e934acf462.jpg', '8785444c02e7415ca56b28faa3226538.jpg', 'f25505e2b4ef44fbb20d94c234fc128c.jpg', '827bff32765d45dea8b753e40d06df30.jpg', '56e3209db54d4f5985d033148e95e75b.jpg', '42466e211faf43a0b3ceb2276221d2e5.jpg', 'abd521a59a9f4b568528f0c0f9d65e35.jpg', '946a57d12bdb458fa39469065a2c0bfc.jpg', '1b003eeda0f74473887e8eba9033dc22.jpg', '675f521cb59d4d649a4652a5a963ba67.jpg', '26cca1a0808f4aabb3a051dbc578392f.jpg', '1070aec9a5a84d7db296c3dde214f089.jpg', '5f6e7ba9cbe647ec8c1858e3f431334d.jpg', '30b877bb385641c789f5fac37a8af3fb.jpg', '7eacfd1d48d94c15b9a0cb9419622dc9.jpg', '99f6a603d2114746a2584549af7ea0f9.jpg', '38662bddd84b4520aff60591c3f199fc.jpg', '9eb873de311c46d49ca08ef943b6a834.jpg', '4eb4820e5a5542d0bdd230d83c37e878.jpg', 'cf88fb7abce04088877638d4858dd084.jpg', 'da410c6dd6fd4959a38d5656b1a57b7a.jpg', '2c66d818bec44d0abb1143709aa16202.jpg', '53955f8d127d46b1af17c6887156a83e.jpg', '818ee34b18de48ceb4181ef05b640617.jpg', '2a111122419b4f9bb84b55699cea266d.jpg', '2c478c03aa354d2aaaf287125c2ef991.jpg', 'bae7679ebe4944d9a92a290fc6b12a2c.jpg', '5217aa8deed54f52bbb8c127f4f06152.jpg', 'aa86b3089d774c9a845923eeb2133703.jpg', 'ff4c53f1305c497e98c47c3dfa8119eb.jpg', '6230291a99e0411aa9786734fab6abed.jpg', '98f37c6dd39c4734a5222a819670a1ce.jpg', '825e3489b1ac4d5d9e1e105aa2d91bd8.jpg', '8e95e36989584aeb97157061292224b0.jpg', '2952b6fdaaf44c34b656a06d7c3cc740.jpg', '5a2905c5cc1e41de97f72332fdfbbfb9.jpg', '221c012d04b34b2e85af059e3068c334.jpg', '6e34d21bdb024870a9bbd51e073d8584.jpg', 'cab5ba6cb48845cfa79dcce475a2876a.jpg', '30eb6427904241beb359ac6212fc91c1.jpg', 'c00825851f9c4880898d16876e0d77bf.jpg', 'b082c83d52ec44479761ab745f7fe162.jpg', 'a3c57896e7754dddb8cb178c4acd7e2f.jpg', '1ae8d01bf3944923b044acc9b59158f0.jpg', 'acd2c57c915d4ccaa0578bd232fc80ac.jpg', '08703e578d1d4aa78d34ec03c13c1d25.jpg', '1d2fafd26ce54ab49eb56befd73f1835.jpg', 'f8bd96008b9747a7bc15c3bdb5386be0.jpg', 'c0c4d979649347babc1afcc71f34b521.jpg', '1dd8dab146514d69828e683fbc9331af.jpg', '5724573db9b743509f80e849d86a1be0.jpg', 'b0d5f314b3d946f0b9f9d012303b1f98.jpg', 'dd398d7436c24865b519bf5d03d6f423.jpg', '2da308b0235146e190bd61b42716bc57.jpg', '66c952f266fb4809a3bcdfe6fc01f26d.jpg', 'b89f76235cb04e4cab3a63e66f78cd4f.jpg', '5d0fbd1ae0884e6a974fc22d99c4bb62.jpg', '82fdc8eb5df64aeda4df69cb4125ceac.jpg', '7cfa32784d6f4aeaaeeb480dabe26e5a.jpg', '7391a777bc9243e69729f0310ca1fd60.jpg', '3341468e206d459096afbaf4caa01c77.jpg', '4eee6e2bf1bc499aaf1bd5cb23a2c537.jpg', '701fc415855c4ba48ace8f26be660d53.jpg', 'e4658a853a004ade84e5e8a26f8cee0a.jpg', 'dc2e5e7b83234a50bda0a27a2693a0a4.jpg', 'f896f9b0429d4010b3a091b86341727f.jpg', '0d234c0d87a9455da08329b3ed194f63.jpg', '2a5492085ec24b849f055a122399f4b3.jpg', 'f92b9b38c86a4a95940a70575623f544.jpg', 'c7832ae4ea284207a31c5be7cfed488b.jpg', 'f0892f59c6b646f7a7a5d6eab4c692be.jpg', '35e562dc8ab447b486952641ba653ebd.jpg', 'c55579985c5f49c299eb2414b6ca90b5.jpg', 'cf54332d13d545948c4470e61c6b4e61.jpg', '4c1ea4ac0a2a4493b7a399ff96239575.jpg', '387191812b644c7eb4d5018b53599478.jpg', '529f8511e34c4b72a341bed56969297d.jpg', '528587d6a882438a85958b8397aa4d09.jpg', '8d6dda2d70494c8aa0025db183af9972.jpg', '489cf8f67a7544a19f411dbe020ad6f6.jpg', 'afb6b6dc29ad469a86ea2065750f3924.jpg', '04e940b36a28462898d9ba16b2408d31.jpg', 'd4b4a774ab434db18831772bc9378528.jpg', '4974993db82a4ab6aca0afae6b5d6518.jpg', 'fd271c25234247caa85ee6ef27be0d9c.jpg', 'ab4dfde91f394538914f61e0801c014d.jpg', 'bc88bad6fdac484195eadd881260ca7b.jpg', '706198db1274493aab1f64001655521e.jpg', 'e63624c832fb459688f109b71b322237.jpg', 'a71b1acf4ffb494b8c2ddad3616c37b5.jpg', '0250f394423e4897ba548a319772d566.jpg', 'b3e069d2cf1c4204aeec9f870ced3b62.jpg', '51927511a491406087a8cd34d715c2f9.jpg', '9e2175ac19804f33893a2f17dfa54b80.jpg', '731b319819d5497a9fb39b0b6845ab4a.jpg', '3cdbe044cc324e948e260bc773112295.jpg', '7c8ad46af6cb4065a47f9d433fc647b0.jpg', 'f4ced0c8523c4b94a41f193bc41dfd9b.jpg', '7707d51c4bf84ce198d75b872f2b54fa.jpg', '7d655470cbe74c438b986dbbf05ad37d.jpg', '6eedafd2e7a64673b1ef114d3a3ae181.jpg', '4d4b78d515014e77b0badab5bc39a849.jpg', '89e21ff98c594da1aa3a5cb1483ba8d8.jpg', 'b4df7717445f4792a8e137ab410e9ee6.jpg']\n"
          ]
        }
      ]
    },
    {
      "cell_type": "code",
      "source": [
        "negative = tf.data.Dataset.list_files(NEG_PATH + '/*.jpg', shuffle=False).take(300)\n",
        "positive = tf.data.Dataset.list_files(POS_PATH + '/*.jpg', shuffle=False).take(300)\n",
        "anchor = tf.data.Dataset.list_files(ANC_PATH + '/*.jpg', shuffle=True).take(300)\n",
        "# positive = tf.data.Dataset.list_files(POS_PATH + '/*.{jpg,jpeg,png}', shuffle=False).take(300)\n",
        "\n"
      ],
      "metadata": {
        "id": "Yr4184RoW3xA"
      },
      "execution_count": 11,
      "outputs": []
    },
    {
      "cell_type": "code",
      "source": [
        "positives=tf.data.Dataset.zip((anchor,positive,tf.data.Dataset.from_tensor_slices(tf.ones(len(anchor)))))\n",
        "negatives=tf.data.Dataset.zip((anchor,negative,tf.data.Dataset.from_tensor_slices(tf.zeros(len(anchor)))))\n",
        "data=positives.concatenate(negatives)"
      ],
      "metadata": {
        "id": "nVk_gZCKannt"
      },
      "execution_count": 12,
      "outputs": []
    },
    {
      "cell_type": "code",
      "source": [
        "def preprocess_twin(input_img, validation_img, label):\n",
        "  return (preprocess(input_img), preprocess(validation_img), label)"
      ],
      "metadata": {
        "id": "FAMVexPmdsVH"
      },
      "execution_count": 13,
      "outputs": []
    },
    {
      "cell_type": "code",
      "source": [
        "#data pipeline\n",
        "data=data.map(preprocess_twin)\n",
        "data=data.cache()\n",
        "data=data.shuffle(buffer_size=64)\n"
      ],
      "metadata": {
        "id": "qdeibYpFd7QR"
      },
      "execution_count": 14,
      "outputs": []
    },
    {
      "cell_type": "code",
      "source": [
        "train_data=data.take(round(len(data)*.7))\n",
        "train_data=train_data.batch(16)\n",
        "train_data=train_data.prefetch(8)\n",
        "\n",
        "test_data=data.skip(round(len(data)*.7))\n",
        "test_data=test_data.take(round(len(data)*.3))\n",
        "test_data=test_data.batch(16)\n",
        "test_data=test_data.prefetch(8)\n"
      ],
      "metadata": {
        "id": "EGo9IonseI4L"
      },
      "execution_count": 15,
      "outputs": []
    },
    {
      "cell_type": "code",
      "source": [
        "inp=Input(shape=(100,100,3), name='inpu_image')\n",
        "c1=Conv2D(64,(10,10), activation='relu')(inp)\n",
        "m1=MaxPooling2D(64,(2,2), padding='same')(c1)\n",
        "c2=Conv2D(128,(7,7), activation='relu')(m1)\n",
        "m2=MaxPooling2D(64,(2,2),padding='same')(c2)\n",
        "c3=Conv2D(128,(4,4),activation='relu')(m2)\n",
        "m3=MaxPooling2D(64,(2,2),padding='same')(c3)\n",
        "c4=Conv2D(256,(4,4), activation='relu')(m3)\n",
        "f1=Flatten()(c4)\n",
        "d1=Dense(4096, activation='sigmoid')(f1)\n"
      ],
      "metadata": {
        "id": "_q-O_uMjf9Qs"
      },
      "execution_count": 16,
      "outputs": []
    },
    {
      "cell_type": "code",
      "source": [
        "mod=Model(inputs=[inp],outputs=[d1], name='embedding')"
      ],
      "metadata": {
        "id": "kSh3JR2VhCx9"
      },
      "execution_count": 22,
      "outputs": []
    },
    {
      "cell_type": "code",
      "source": [
        "mod.summary()"
      ],
      "metadata": {
        "colab": {
          "base_uri": "https://localhost:8080/",
          "height": 476
        },
        "id": "WkdsMkRphKEA",
        "outputId": "61bd1e5b-0796-4f82-e595-926a2b016ab1"
      },
      "execution_count": 23,
      "outputs": [
        {
          "output_type": "display_data",
          "data": {
            "text/plain": [
              "\u001b[1mModel: \"embedding\"\u001b[0m\n"
            ],
            "text/html": [
              "<pre style=\"white-space:pre;overflow-x:auto;line-height:normal;font-family:Menlo,'DejaVu Sans Mono',consolas,'Courier New',monospace\"><span style=\"font-weight: bold\">Model: \"embedding\"</span>\n",
              "</pre>\n"
            ]
          },
          "metadata": {}
        },
        {
          "output_type": "display_data",
          "data": {
            "text/plain": [
              "┏━━━━━━━━━━━━━━━━━━━━━━━━━━━━━━━━━━━━━━┳━━━━━━━━━━━━━━━━━━━━━━━━━━━━━┳━━━━━━━━━━━━━━━━━┓\n",
              "┃\u001b[1m \u001b[0m\u001b[1mLayer (type)                        \u001b[0m\u001b[1m \u001b[0m┃\u001b[1m \u001b[0m\u001b[1mOutput Shape               \u001b[0m\u001b[1m \u001b[0m┃\u001b[1m \u001b[0m\u001b[1m        Param #\u001b[0m\u001b[1m \u001b[0m┃\n",
              "┡━━━━━━━━━━━━━━━━━━━━━━━━━━━━━━━━━━━━━━╇━━━━━━━━━━━━━━━━━━━━━━━━━━━━━╇━━━━━━━━━━━━━━━━━┩\n",
              "│ inpu_image (\u001b[38;5;33mInputLayer\u001b[0m)              │ (\u001b[38;5;45mNone\u001b[0m, \u001b[38;5;34m100\u001b[0m, \u001b[38;5;34m100\u001b[0m, \u001b[38;5;34m3\u001b[0m)         │               \u001b[38;5;34m0\u001b[0m │\n",
              "├──────────────────────────────────────┼─────────────────────────────┼─────────────────┤\n",
              "│ conv2d (\u001b[38;5;33mConv2D\u001b[0m)                      │ (\u001b[38;5;45mNone\u001b[0m, \u001b[38;5;34m91\u001b[0m, \u001b[38;5;34m91\u001b[0m, \u001b[38;5;34m64\u001b[0m)          │          \u001b[38;5;34m19,264\u001b[0m │\n",
              "├──────────────────────────────────────┼─────────────────────────────┼─────────────────┤\n",
              "│ max_pooling2d (\u001b[38;5;33mMaxPooling2D\u001b[0m)         │ (\u001b[38;5;45mNone\u001b[0m, \u001b[38;5;34m46\u001b[0m, \u001b[38;5;34m46\u001b[0m, \u001b[38;5;34m64\u001b[0m)          │               \u001b[38;5;34m0\u001b[0m │\n",
              "├──────────────────────────────────────┼─────────────────────────────┼─────────────────┤\n",
              "│ conv2d_1 (\u001b[38;5;33mConv2D\u001b[0m)                    │ (\u001b[38;5;45mNone\u001b[0m, \u001b[38;5;34m40\u001b[0m, \u001b[38;5;34m40\u001b[0m, \u001b[38;5;34m128\u001b[0m)         │         \u001b[38;5;34m401,536\u001b[0m │\n",
              "├──────────────────────────────────────┼─────────────────────────────┼─────────────────┤\n",
              "│ max_pooling2d_1 (\u001b[38;5;33mMaxPooling2D\u001b[0m)       │ (\u001b[38;5;45mNone\u001b[0m, \u001b[38;5;34m20\u001b[0m, \u001b[38;5;34m20\u001b[0m, \u001b[38;5;34m128\u001b[0m)         │               \u001b[38;5;34m0\u001b[0m │\n",
              "├──────────────────────────────────────┼─────────────────────────────┼─────────────────┤\n",
              "│ conv2d_2 (\u001b[38;5;33mConv2D\u001b[0m)                    │ (\u001b[38;5;45mNone\u001b[0m, \u001b[38;5;34m17\u001b[0m, \u001b[38;5;34m17\u001b[0m, \u001b[38;5;34m128\u001b[0m)         │         \u001b[38;5;34m262,272\u001b[0m │\n",
              "├──────────────────────────────────────┼─────────────────────────────┼─────────────────┤\n",
              "│ max_pooling2d_2 (\u001b[38;5;33mMaxPooling2D\u001b[0m)       │ (\u001b[38;5;45mNone\u001b[0m, \u001b[38;5;34m9\u001b[0m, \u001b[38;5;34m9\u001b[0m, \u001b[38;5;34m128\u001b[0m)           │               \u001b[38;5;34m0\u001b[0m │\n",
              "├──────────────────────────────────────┼─────────────────────────────┼─────────────────┤\n",
              "│ conv2d_3 (\u001b[38;5;33mConv2D\u001b[0m)                    │ (\u001b[38;5;45mNone\u001b[0m, \u001b[38;5;34m6\u001b[0m, \u001b[38;5;34m6\u001b[0m, \u001b[38;5;34m256\u001b[0m)           │         \u001b[38;5;34m524,544\u001b[0m │\n",
              "├──────────────────────────────────────┼─────────────────────────────┼─────────────────┤\n",
              "│ flatten (\u001b[38;5;33mFlatten\u001b[0m)                    │ (\u001b[38;5;45mNone\u001b[0m, \u001b[38;5;34m9216\u001b[0m)                │               \u001b[38;5;34m0\u001b[0m │\n",
              "├──────────────────────────────────────┼─────────────────────────────┼─────────────────┤\n",
              "│ dense (\u001b[38;5;33mDense\u001b[0m)                        │ (\u001b[38;5;45mNone\u001b[0m, \u001b[38;5;34m4096\u001b[0m)                │      \u001b[38;5;34m37,752,832\u001b[0m │\n",
              "└──────────────────────────────────────┴─────────────────────────────┴─────────────────┘\n"
            ],
            "text/html": [
              "<pre style=\"white-space:pre;overflow-x:auto;line-height:normal;font-family:Menlo,'DejaVu Sans Mono',consolas,'Courier New',monospace\">┏━━━━━━━━━━━━━━━━━━━━━━━━━━━━━━━━━━━━━━┳━━━━━━━━━━━━━━━━━━━━━━━━━━━━━┳━━━━━━━━━━━━━━━━━┓\n",
              "┃<span style=\"font-weight: bold\"> Layer (type)                         </span>┃<span style=\"font-weight: bold\"> Output Shape                </span>┃<span style=\"font-weight: bold\">         Param # </span>┃\n",
              "┡━━━━━━━━━━━━━━━━━━━━━━━━━━━━━━━━━━━━━━╇━━━━━━━━━━━━━━━━━━━━━━━━━━━━━╇━━━━━━━━━━━━━━━━━┩\n",
              "│ inpu_image (<span style=\"color: #0087ff; text-decoration-color: #0087ff\">InputLayer</span>)              │ (<span style=\"color: #00d7ff; text-decoration-color: #00d7ff\">None</span>, <span style=\"color: #00af00; text-decoration-color: #00af00\">100</span>, <span style=\"color: #00af00; text-decoration-color: #00af00\">100</span>, <span style=\"color: #00af00; text-decoration-color: #00af00\">3</span>)         │               <span style=\"color: #00af00; text-decoration-color: #00af00\">0</span> │\n",
              "├──────────────────────────────────────┼─────────────────────────────┼─────────────────┤\n",
              "│ conv2d (<span style=\"color: #0087ff; text-decoration-color: #0087ff\">Conv2D</span>)                      │ (<span style=\"color: #00d7ff; text-decoration-color: #00d7ff\">None</span>, <span style=\"color: #00af00; text-decoration-color: #00af00\">91</span>, <span style=\"color: #00af00; text-decoration-color: #00af00\">91</span>, <span style=\"color: #00af00; text-decoration-color: #00af00\">64</span>)          │          <span style=\"color: #00af00; text-decoration-color: #00af00\">19,264</span> │\n",
              "├──────────────────────────────────────┼─────────────────────────────┼─────────────────┤\n",
              "│ max_pooling2d (<span style=\"color: #0087ff; text-decoration-color: #0087ff\">MaxPooling2D</span>)         │ (<span style=\"color: #00d7ff; text-decoration-color: #00d7ff\">None</span>, <span style=\"color: #00af00; text-decoration-color: #00af00\">46</span>, <span style=\"color: #00af00; text-decoration-color: #00af00\">46</span>, <span style=\"color: #00af00; text-decoration-color: #00af00\">64</span>)          │               <span style=\"color: #00af00; text-decoration-color: #00af00\">0</span> │\n",
              "├──────────────────────────────────────┼─────────────────────────────┼─────────────────┤\n",
              "│ conv2d_1 (<span style=\"color: #0087ff; text-decoration-color: #0087ff\">Conv2D</span>)                    │ (<span style=\"color: #00d7ff; text-decoration-color: #00d7ff\">None</span>, <span style=\"color: #00af00; text-decoration-color: #00af00\">40</span>, <span style=\"color: #00af00; text-decoration-color: #00af00\">40</span>, <span style=\"color: #00af00; text-decoration-color: #00af00\">128</span>)         │         <span style=\"color: #00af00; text-decoration-color: #00af00\">401,536</span> │\n",
              "├──────────────────────────────────────┼─────────────────────────────┼─────────────────┤\n",
              "│ max_pooling2d_1 (<span style=\"color: #0087ff; text-decoration-color: #0087ff\">MaxPooling2D</span>)       │ (<span style=\"color: #00d7ff; text-decoration-color: #00d7ff\">None</span>, <span style=\"color: #00af00; text-decoration-color: #00af00\">20</span>, <span style=\"color: #00af00; text-decoration-color: #00af00\">20</span>, <span style=\"color: #00af00; text-decoration-color: #00af00\">128</span>)         │               <span style=\"color: #00af00; text-decoration-color: #00af00\">0</span> │\n",
              "├──────────────────────────────────────┼─────────────────────────────┼─────────────────┤\n",
              "│ conv2d_2 (<span style=\"color: #0087ff; text-decoration-color: #0087ff\">Conv2D</span>)                    │ (<span style=\"color: #00d7ff; text-decoration-color: #00d7ff\">None</span>, <span style=\"color: #00af00; text-decoration-color: #00af00\">17</span>, <span style=\"color: #00af00; text-decoration-color: #00af00\">17</span>, <span style=\"color: #00af00; text-decoration-color: #00af00\">128</span>)         │         <span style=\"color: #00af00; text-decoration-color: #00af00\">262,272</span> │\n",
              "├──────────────────────────────────────┼─────────────────────────────┼─────────────────┤\n",
              "│ max_pooling2d_2 (<span style=\"color: #0087ff; text-decoration-color: #0087ff\">MaxPooling2D</span>)       │ (<span style=\"color: #00d7ff; text-decoration-color: #00d7ff\">None</span>, <span style=\"color: #00af00; text-decoration-color: #00af00\">9</span>, <span style=\"color: #00af00; text-decoration-color: #00af00\">9</span>, <span style=\"color: #00af00; text-decoration-color: #00af00\">128</span>)           │               <span style=\"color: #00af00; text-decoration-color: #00af00\">0</span> │\n",
              "├──────────────────────────────────────┼─────────────────────────────┼─────────────────┤\n",
              "│ conv2d_3 (<span style=\"color: #0087ff; text-decoration-color: #0087ff\">Conv2D</span>)                    │ (<span style=\"color: #00d7ff; text-decoration-color: #00d7ff\">None</span>, <span style=\"color: #00af00; text-decoration-color: #00af00\">6</span>, <span style=\"color: #00af00; text-decoration-color: #00af00\">6</span>, <span style=\"color: #00af00; text-decoration-color: #00af00\">256</span>)           │         <span style=\"color: #00af00; text-decoration-color: #00af00\">524,544</span> │\n",
              "├──────────────────────────────────────┼─────────────────────────────┼─────────────────┤\n",
              "│ flatten (<span style=\"color: #0087ff; text-decoration-color: #0087ff\">Flatten</span>)                    │ (<span style=\"color: #00d7ff; text-decoration-color: #00d7ff\">None</span>, <span style=\"color: #00af00; text-decoration-color: #00af00\">9216</span>)                │               <span style=\"color: #00af00; text-decoration-color: #00af00\">0</span> │\n",
              "├──────────────────────────────────────┼─────────────────────────────┼─────────────────┤\n",
              "│ dense (<span style=\"color: #0087ff; text-decoration-color: #0087ff\">Dense</span>)                        │ (<span style=\"color: #00d7ff; text-decoration-color: #00d7ff\">None</span>, <span style=\"color: #00af00; text-decoration-color: #00af00\">4096</span>)                │      <span style=\"color: #00af00; text-decoration-color: #00af00\">37,752,832</span> │\n",
              "└──────────────────────────────────────┴─────────────────────────────┴─────────────────┘\n",
              "</pre>\n"
            ]
          },
          "metadata": {}
        },
        {
          "output_type": "display_data",
          "data": {
            "text/plain": [
              "\u001b[1m Total params: \u001b[0m\u001b[38;5;34m38,960,448\u001b[0m (148.62 MB)\n"
            ],
            "text/html": [
              "<pre style=\"white-space:pre;overflow-x:auto;line-height:normal;font-family:Menlo,'DejaVu Sans Mono',consolas,'Courier New',monospace\"><span style=\"font-weight: bold\"> Total params: </span><span style=\"color: #00af00; text-decoration-color: #00af00\">38,960,448</span> (148.62 MB)\n",
              "</pre>\n"
            ]
          },
          "metadata": {}
        },
        {
          "output_type": "display_data",
          "data": {
            "text/plain": [
              "\u001b[1m Trainable params: \u001b[0m\u001b[38;5;34m38,960,448\u001b[0m (148.62 MB)\n"
            ],
            "text/html": [
              "<pre style=\"white-space:pre;overflow-x:auto;line-height:normal;font-family:Menlo,'DejaVu Sans Mono',consolas,'Courier New',monospace\"><span style=\"font-weight: bold\"> Trainable params: </span><span style=\"color: #00af00; text-decoration-color: #00af00\">38,960,448</span> (148.62 MB)\n",
              "</pre>\n"
            ]
          },
          "metadata": {}
        },
        {
          "output_type": "display_data",
          "data": {
            "text/plain": [
              "\u001b[1m Non-trainable params: \u001b[0m\u001b[38;5;34m0\u001b[0m (0.00 B)\n"
            ],
            "text/html": [
              "<pre style=\"white-space:pre;overflow-x:auto;line-height:normal;font-family:Menlo,'DejaVu Sans Mono',consolas,'Courier New',monospace\"><span style=\"font-weight: bold\"> Non-trainable params: </span><span style=\"color: #00af00; text-decoration-color: #00af00\">0</span> (0.00 B)\n",
              "</pre>\n"
            ]
          },
          "metadata": {}
        }
      ]
    },
    {
      "cell_type": "code",
      "source": [
        "def make_embedding():\n",
        "    inp = Input(shape=(100,100,3), name='input_image')\n",
        "\n",
        "    # First block\n",
        "    c1 = Conv2D(64, (10,10), activation='relu')(inp)\n",
        "    m1 = MaxPooling2D(64, (2,2), padding='same')(c1)\n",
        "\n",
        "    # Second block\n",
        "    c2 = Conv2D(128, (7,7), activation='relu')(m1)\n",
        "    m2 = MaxPooling2D(64, (2,2), padding='same')(c2)\n",
        "\n",
        "    # Third block\n",
        "    c3 = Conv2D(128, (4,4), activation='relu')(m2)\n",
        "    m3 = MaxPooling2D(64, (2,2), padding='same')(c3)\n",
        "\n",
        "    # Final embedding block\n",
        "    c4 = Conv2D(256, (4,4), activation='relu')(m3)\n",
        "    f1 = Flatten()(c4)\n",
        "    d1 = Dense(4096, activation='sigmoid')(f1)\n",
        "\n",
        "\n",
        "    return Model(inputs=inp, outputs=d1, name='embedding')"
      ],
      "metadata": {
        "id": "VNKwq55ZhZsi"
      },
      "execution_count": 24,
      "outputs": []
    },
    {
      "cell_type": "code",
      "source": [
        "embedding = make_embedding()"
      ],
      "metadata": {
        "id": "JuRJEMschk6p"
      },
      "execution_count": 25,
      "outputs": []
    },
    {
      "cell_type": "code",
      "source": [
        "embedding.summary()"
      ],
      "metadata": {
        "colab": {
          "base_uri": "https://localhost:8080/",
          "height": 476
        },
        "id": "oRJ0YKK3hluc",
        "outputId": "94112ea7-0ee2-4ac4-eb88-c3124849233d"
      },
      "execution_count": 26,
      "outputs": [
        {
          "output_type": "display_data",
          "data": {
            "text/plain": [
              "\u001b[1mModel: \"embedding\"\u001b[0m\n"
            ],
            "text/html": [
              "<pre style=\"white-space:pre;overflow-x:auto;line-height:normal;font-family:Menlo,'DejaVu Sans Mono',consolas,'Courier New',monospace\"><span style=\"font-weight: bold\">Model: \"embedding\"</span>\n",
              "</pre>\n"
            ]
          },
          "metadata": {}
        },
        {
          "output_type": "display_data",
          "data": {
            "text/plain": [
              "┏━━━━━━━━━━━━━━━━━━━━━━━━━━━━━━━━━━━━━━┳━━━━━━━━━━━━━━━━━━━━━━━━━━━━━┳━━━━━━━━━━━━━━━━━┓\n",
              "┃\u001b[1m \u001b[0m\u001b[1mLayer (type)                        \u001b[0m\u001b[1m \u001b[0m┃\u001b[1m \u001b[0m\u001b[1mOutput Shape               \u001b[0m\u001b[1m \u001b[0m┃\u001b[1m \u001b[0m\u001b[1m        Param #\u001b[0m\u001b[1m \u001b[0m┃\n",
              "┡━━━━━━━━━━━━━━━━━━━━━━━━━━━━━━━━━━━━━━╇━━━━━━━━━━━━━━━━━━━━━━━━━━━━━╇━━━━━━━━━━━━━━━━━┩\n",
              "│ input_image (\u001b[38;5;33mInputLayer\u001b[0m)             │ (\u001b[38;5;45mNone\u001b[0m, \u001b[38;5;34m100\u001b[0m, \u001b[38;5;34m100\u001b[0m, \u001b[38;5;34m3\u001b[0m)         │               \u001b[38;5;34m0\u001b[0m │\n",
              "├──────────────────────────────────────┼─────────────────────────────┼─────────────────┤\n",
              "│ conv2d_4 (\u001b[38;5;33mConv2D\u001b[0m)                    │ (\u001b[38;5;45mNone\u001b[0m, \u001b[38;5;34m91\u001b[0m, \u001b[38;5;34m91\u001b[0m, \u001b[38;5;34m64\u001b[0m)          │          \u001b[38;5;34m19,264\u001b[0m │\n",
              "├──────────────────────────────────────┼─────────────────────────────┼─────────────────┤\n",
              "│ max_pooling2d_3 (\u001b[38;5;33mMaxPooling2D\u001b[0m)       │ (\u001b[38;5;45mNone\u001b[0m, \u001b[38;5;34m46\u001b[0m, \u001b[38;5;34m46\u001b[0m, \u001b[38;5;34m64\u001b[0m)          │               \u001b[38;5;34m0\u001b[0m │\n",
              "├──────────────────────────────────────┼─────────────────────────────┼─────────────────┤\n",
              "│ conv2d_5 (\u001b[38;5;33mConv2D\u001b[0m)                    │ (\u001b[38;5;45mNone\u001b[0m, \u001b[38;5;34m40\u001b[0m, \u001b[38;5;34m40\u001b[0m, \u001b[38;5;34m128\u001b[0m)         │         \u001b[38;5;34m401,536\u001b[0m │\n",
              "├──────────────────────────────────────┼─────────────────────────────┼─────────────────┤\n",
              "│ max_pooling2d_4 (\u001b[38;5;33mMaxPooling2D\u001b[0m)       │ (\u001b[38;5;45mNone\u001b[0m, \u001b[38;5;34m20\u001b[0m, \u001b[38;5;34m20\u001b[0m, \u001b[38;5;34m128\u001b[0m)         │               \u001b[38;5;34m0\u001b[0m │\n",
              "├──────────────────────────────────────┼─────────────────────────────┼─────────────────┤\n",
              "│ conv2d_6 (\u001b[38;5;33mConv2D\u001b[0m)                    │ (\u001b[38;5;45mNone\u001b[0m, \u001b[38;5;34m17\u001b[0m, \u001b[38;5;34m17\u001b[0m, \u001b[38;5;34m128\u001b[0m)         │         \u001b[38;5;34m262,272\u001b[0m │\n",
              "├──────────────────────────────────────┼─────────────────────────────┼─────────────────┤\n",
              "│ max_pooling2d_5 (\u001b[38;5;33mMaxPooling2D\u001b[0m)       │ (\u001b[38;5;45mNone\u001b[0m, \u001b[38;5;34m9\u001b[0m, \u001b[38;5;34m9\u001b[0m, \u001b[38;5;34m128\u001b[0m)           │               \u001b[38;5;34m0\u001b[0m │\n",
              "├──────────────────────────────────────┼─────────────────────────────┼─────────────────┤\n",
              "│ conv2d_7 (\u001b[38;5;33mConv2D\u001b[0m)                    │ (\u001b[38;5;45mNone\u001b[0m, \u001b[38;5;34m6\u001b[0m, \u001b[38;5;34m6\u001b[0m, \u001b[38;5;34m256\u001b[0m)           │         \u001b[38;5;34m524,544\u001b[0m │\n",
              "├──────────────────────────────────────┼─────────────────────────────┼─────────────────┤\n",
              "│ flatten_1 (\u001b[38;5;33mFlatten\u001b[0m)                  │ (\u001b[38;5;45mNone\u001b[0m, \u001b[38;5;34m9216\u001b[0m)                │               \u001b[38;5;34m0\u001b[0m │\n",
              "├──────────────────────────────────────┼─────────────────────────────┼─────────────────┤\n",
              "│ dense_1 (\u001b[38;5;33mDense\u001b[0m)                      │ (\u001b[38;5;45mNone\u001b[0m, \u001b[38;5;34m4096\u001b[0m)                │      \u001b[38;5;34m37,752,832\u001b[0m │\n",
              "└──────────────────────────────────────┴─────────────────────────────┴─────────────────┘\n"
            ],
            "text/html": [
              "<pre style=\"white-space:pre;overflow-x:auto;line-height:normal;font-family:Menlo,'DejaVu Sans Mono',consolas,'Courier New',monospace\">┏━━━━━━━━━━━━━━━━━━━━━━━━━━━━━━━━━━━━━━┳━━━━━━━━━━━━━━━━━━━━━━━━━━━━━┳━━━━━━━━━━━━━━━━━┓\n",
              "┃<span style=\"font-weight: bold\"> Layer (type)                         </span>┃<span style=\"font-weight: bold\"> Output Shape                </span>┃<span style=\"font-weight: bold\">         Param # </span>┃\n",
              "┡━━━━━━━━━━━━━━━━━━━━━━━━━━━━━━━━━━━━━━╇━━━━━━━━━━━━━━━━━━━━━━━━━━━━━╇━━━━━━━━━━━━━━━━━┩\n",
              "│ input_image (<span style=\"color: #0087ff; text-decoration-color: #0087ff\">InputLayer</span>)             │ (<span style=\"color: #00d7ff; text-decoration-color: #00d7ff\">None</span>, <span style=\"color: #00af00; text-decoration-color: #00af00\">100</span>, <span style=\"color: #00af00; text-decoration-color: #00af00\">100</span>, <span style=\"color: #00af00; text-decoration-color: #00af00\">3</span>)         │               <span style=\"color: #00af00; text-decoration-color: #00af00\">0</span> │\n",
              "├──────────────────────────────────────┼─────────────────────────────┼─────────────────┤\n",
              "│ conv2d_4 (<span style=\"color: #0087ff; text-decoration-color: #0087ff\">Conv2D</span>)                    │ (<span style=\"color: #00d7ff; text-decoration-color: #00d7ff\">None</span>, <span style=\"color: #00af00; text-decoration-color: #00af00\">91</span>, <span style=\"color: #00af00; text-decoration-color: #00af00\">91</span>, <span style=\"color: #00af00; text-decoration-color: #00af00\">64</span>)          │          <span style=\"color: #00af00; text-decoration-color: #00af00\">19,264</span> │\n",
              "├──────────────────────────────────────┼─────────────────────────────┼─────────────────┤\n",
              "│ max_pooling2d_3 (<span style=\"color: #0087ff; text-decoration-color: #0087ff\">MaxPooling2D</span>)       │ (<span style=\"color: #00d7ff; text-decoration-color: #00d7ff\">None</span>, <span style=\"color: #00af00; text-decoration-color: #00af00\">46</span>, <span style=\"color: #00af00; text-decoration-color: #00af00\">46</span>, <span style=\"color: #00af00; text-decoration-color: #00af00\">64</span>)          │               <span style=\"color: #00af00; text-decoration-color: #00af00\">0</span> │\n",
              "├──────────────────────────────────────┼─────────────────────────────┼─────────────────┤\n",
              "│ conv2d_5 (<span style=\"color: #0087ff; text-decoration-color: #0087ff\">Conv2D</span>)                    │ (<span style=\"color: #00d7ff; text-decoration-color: #00d7ff\">None</span>, <span style=\"color: #00af00; text-decoration-color: #00af00\">40</span>, <span style=\"color: #00af00; text-decoration-color: #00af00\">40</span>, <span style=\"color: #00af00; text-decoration-color: #00af00\">128</span>)         │         <span style=\"color: #00af00; text-decoration-color: #00af00\">401,536</span> │\n",
              "├──────────────────────────────────────┼─────────────────────────────┼─────────────────┤\n",
              "│ max_pooling2d_4 (<span style=\"color: #0087ff; text-decoration-color: #0087ff\">MaxPooling2D</span>)       │ (<span style=\"color: #00d7ff; text-decoration-color: #00d7ff\">None</span>, <span style=\"color: #00af00; text-decoration-color: #00af00\">20</span>, <span style=\"color: #00af00; text-decoration-color: #00af00\">20</span>, <span style=\"color: #00af00; text-decoration-color: #00af00\">128</span>)         │               <span style=\"color: #00af00; text-decoration-color: #00af00\">0</span> │\n",
              "├──────────────────────────────────────┼─────────────────────────────┼─────────────────┤\n",
              "│ conv2d_6 (<span style=\"color: #0087ff; text-decoration-color: #0087ff\">Conv2D</span>)                    │ (<span style=\"color: #00d7ff; text-decoration-color: #00d7ff\">None</span>, <span style=\"color: #00af00; text-decoration-color: #00af00\">17</span>, <span style=\"color: #00af00; text-decoration-color: #00af00\">17</span>, <span style=\"color: #00af00; text-decoration-color: #00af00\">128</span>)         │         <span style=\"color: #00af00; text-decoration-color: #00af00\">262,272</span> │\n",
              "├──────────────────────────────────────┼─────────────────────────────┼─────────────────┤\n",
              "│ max_pooling2d_5 (<span style=\"color: #0087ff; text-decoration-color: #0087ff\">MaxPooling2D</span>)       │ (<span style=\"color: #00d7ff; text-decoration-color: #00d7ff\">None</span>, <span style=\"color: #00af00; text-decoration-color: #00af00\">9</span>, <span style=\"color: #00af00; text-decoration-color: #00af00\">9</span>, <span style=\"color: #00af00; text-decoration-color: #00af00\">128</span>)           │               <span style=\"color: #00af00; text-decoration-color: #00af00\">0</span> │\n",
              "├──────────────────────────────────────┼─────────────────────────────┼─────────────────┤\n",
              "│ conv2d_7 (<span style=\"color: #0087ff; text-decoration-color: #0087ff\">Conv2D</span>)                    │ (<span style=\"color: #00d7ff; text-decoration-color: #00d7ff\">None</span>, <span style=\"color: #00af00; text-decoration-color: #00af00\">6</span>, <span style=\"color: #00af00; text-decoration-color: #00af00\">6</span>, <span style=\"color: #00af00; text-decoration-color: #00af00\">256</span>)           │         <span style=\"color: #00af00; text-decoration-color: #00af00\">524,544</span> │\n",
              "├──────────────────────────────────────┼─────────────────────────────┼─────────────────┤\n",
              "│ flatten_1 (<span style=\"color: #0087ff; text-decoration-color: #0087ff\">Flatten</span>)                  │ (<span style=\"color: #00d7ff; text-decoration-color: #00d7ff\">None</span>, <span style=\"color: #00af00; text-decoration-color: #00af00\">9216</span>)                │               <span style=\"color: #00af00; text-decoration-color: #00af00\">0</span> │\n",
              "├──────────────────────────────────────┼─────────────────────────────┼─────────────────┤\n",
              "│ dense_1 (<span style=\"color: #0087ff; text-decoration-color: #0087ff\">Dense</span>)                      │ (<span style=\"color: #00d7ff; text-decoration-color: #00d7ff\">None</span>, <span style=\"color: #00af00; text-decoration-color: #00af00\">4096</span>)                │      <span style=\"color: #00af00; text-decoration-color: #00af00\">37,752,832</span> │\n",
              "└──────────────────────────────────────┴─────────────────────────────┴─────────────────┘\n",
              "</pre>\n"
            ]
          },
          "metadata": {}
        },
        {
          "output_type": "display_data",
          "data": {
            "text/plain": [
              "\u001b[1m Total params: \u001b[0m\u001b[38;5;34m38,960,448\u001b[0m (148.62 MB)\n"
            ],
            "text/html": [
              "<pre style=\"white-space:pre;overflow-x:auto;line-height:normal;font-family:Menlo,'DejaVu Sans Mono',consolas,'Courier New',monospace\"><span style=\"font-weight: bold\"> Total params: </span><span style=\"color: #00af00; text-decoration-color: #00af00\">38,960,448</span> (148.62 MB)\n",
              "</pre>\n"
            ]
          },
          "metadata": {}
        },
        {
          "output_type": "display_data",
          "data": {
            "text/plain": [
              "\u001b[1m Trainable params: \u001b[0m\u001b[38;5;34m38,960,448\u001b[0m (148.62 MB)\n"
            ],
            "text/html": [
              "<pre style=\"white-space:pre;overflow-x:auto;line-height:normal;font-family:Menlo,'DejaVu Sans Mono',consolas,'Courier New',monospace\"><span style=\"font-weight: bold\"> Trainable params: </span><span style=\"color: #00af00; text-decoration-color: #00af00\">38,960,448</span> (148.62 MB)\n",
              "</pre>\n"
            ]
          },
          "metadata": {}
        },
        {
          "output_type": "display_data",
          "data": {
            "text/plain": [
              "\u001b[1m Non-trainable params: \u001b[0m\u001b[38;5;34m0\u001b[0m (0.00 B)\n"
            ],
            "text/html": [
              "<pre style=\"white-space:pre;overflow-x:auto;line-height:normal;font-family:Menlo,'DejaVu Sans Mono',consolas,'Courier New',monospace\"><span style=\"font-weight: bold\"> Non-trainable params: </span><span style=\"color: #00af00; text-decoration-color: #00af00\">0</span> (0.00 B)\n",
              "</pre>\n"
            ]
          },
          "metadata": {}
        }
      ]
    },
    {
      "cell_type": "code",
      "source": [
        "# Siamese L1 Distance class\n",
        "class L1Dist(Layer):\n",
        "\n",
        "    # Init method - inheritance\n",
        "    def __init__(self, **kwargs):\n",
        "        super().__init__()\n",
        "\n",
        "    # Magic happens here - similarity calculation\n",
        "    def call(self, input_embedding, validation_embedding):\n",
        "        return tf.math.abs(input_embedding - validation_embedding)\n"
      ],
      "metadata": {
        "id": "bJ8PYhYLhnaB"
      },
      "execution_count": 27,
      "outputs": []
    },
    {
      "cell_type": "code",
      "source": [
        "l1 = L1Dist()\n",
        "l1"
      ],
      "metadata": {
        "colab": {
          "base_uri": "https://localhost:8080/"
        },
        "id": "5qeY4M90jnSp",
        "outputId": "3bbec2aa-3963-405b-be2a-c7953ab7e0e4"
      },
      "execution_count": 28,
      "outputs": [
        {
          "output_type": "execute_result",
          "data": {
            "text/plain": [
              "<L1Dist name=l1_dist, built=False>"
            ]
          },
          "metadata": {},
          "execution_count": 28
        }
      ]
    },
    {
      "cell_type": "code",
      "source": [
        "input_image=Input(name='input_img', shape=(100,100,3))\n",
        "print(embedding(input_image))\n",
        "validation_image=Input(name='validation_img',shape=(100,100,3))\n",
        "inp_embedding = embedding(input_image)\n",
        "val_embedding = embedding(validation_image)"
      ],
      "metadata": {
        "colab": {
          "base_uri": "https://localhost:8080/"
        },
        "id": "54Nf6OYJj8i7",
        "outputId": "924c7d9a-6e1c-4797-ce5d-d62224da2be3"
      },
      "execution_count": 29,
      "outputs": [
        {
          "output_type": "stream",
          "name": "stdout",
          "text": [
            "<KerasTensor shape=(None, 4096), dtype=float32, sparse=False, name=keras_tensor_18>\n"
          ]
        }
      ]
    },
    {
      "cell_type": "code",
      "source": [
        "siamese_layer=L1Dist()\n",
        "siamese_layer(inp_embedding, val_embedding)"
      ],
      "metadata": {
        "colab": {
          "base_uri": "https://localhost:8080/"
        },
        "id": "bQYITVRkn5eO",
        "outputId": "b725fdce-85c6-44d1-bf19-2a4d0cd67194"
      },
      "execution_count": 30,
      "outputs": [
        {
          "output_type": "execute_result",
          "data": {
            "text/plain": [
              "<KerasTensor shape=(None, 4096), dtype=float32, sparse=False, name=keras_tensor_21>"
            ]
          },
          "metadata": {},
          "execution_count": 30
        }
      ]
    },
    {
      "cell_type": "code",
      "source": [
        "def make_siamese_model():\n",
        "\n",
        "    # Anchor image input in the network\n",
        "    input_image = Input(name='input_img', shape=(100,100,3))\n",
        "\n",
        "    # Validation image in the network\n",
        "    validation_image = Input(name='validation_img', shape=(100,100,3))\n",
        "\n",
        "    # Combine siamese distance components\n",
        "    siamese_layer = L1Dist()\n",
        "    siamese_layer._name = 'distance'\n",
        "    distances = siamese_layer(embedding(input_image), embedding(validation_image))\n",
        "\n",
        "    # # Classification layer\n",
        "    classifier = Dense(1, activation='sigmoid')(distances)\n",
        "\n",
        "    return Model(inputs=[input_image, validation_image], outputs=classifier, name='SiameseNetwork')"
      ],
      "metadata": {
        "id": "C-Xp_Ih3kXEK"
      },
      "execution_count": 31,
      "outputs": []
    },
    {
      "cell_type": "code",
      "source": [
        "siamese_model = make_siamese_model()\n",
        "siamese_model.summary()"
      ],
      "metadata": {
        "colab": {
          "base_uri": "https://localhost:8080/",
          "height": 357
        },
        "id": "uL45Y5uDpMu4",
        "outputId": "4f1788f2-b4ba-4bba-c527-7b563ba4c876"
      },
      "execution_count": 32,
      "outputs": [
        {
          "output_type": "display_data",
          "data": {
            "text/plain": [
              "\u001b[1mModel: \"SiameseNetwork\"\u001b[0m\n"
            ],
            "text/html": [
              "<pre style=\"white-space:pre;overflow-x:auto;line-height:normal;font-family:Menlo,'DejaVu Sans Mono',consolas,'Courier New',monospace\"><span style=\"font-weight: bold\">Model: \"SiameseNetwork\"</span>\n",
              "</pre>\n"
            ]
          },
          "metadata": {}
        },
        {
          "output_type": "display_data",
          "data": {
            "text/plain": [
              "┏━━━━━━━━━━━━━━━━━━━━━━━━━━━┳━━━━━━━━━━━━━━━━━━━━━━━━┳━━━━━━━━━━━━━━━━┳━━━━━━━━━━━━━━━━━━━━━━━━┓\n",
              "┃\u001b[1m \u001b[0m\u001b[1mLayer (type)             \u001b[0m\u001b[1m \u001b[0m┃\u001b[1m \u001b[0m\u001b[1mOutput Shape          \u001b[0m\u001b[1m \u001b[0m┃\u001b[1m \u001b[0m\u001b[1m       Param #\u001b[0m\u001b[1m \u001b[0m┃\u001b[1m \u001b[0m\u001b[1mConnected to          \u001b[0m\u001b[1m \u001b[0m┃\n",
              "┡━━━━━━━━━━━━━━━━━━━━━━━━━━━╇━━━━━━━━━━━━━━━━━━━━━━━━╇━━━━━━━━━━━━━━━━╇━━━━━━━━━━━━━━━━━━━━━━━━┩\n",
              "│ input_img (\u001b[38;5;33mInputLayer\u001b[0m)    │ (\u001b[38;5;45mNone\u001b[0m, \u001b[38;5;34m100\u001b[0m, \u001b[38;5;34m100\u001b[0m, \u001b[38;5;34m3\u001b[0m)    │              \u001b[38;5;34m0\u001b[0m │ -                      │\n",
              "├───────────────────────────┼────────────────────────┼────────────────┼────────────────────────┤\n",
              "│ validation_img            │ (\u001b[38;5;45mNone\u001b[0m, \u001b[38;5;34m100\u001b[0m, \u001b[38;5;34m100\u001b[0m, \u001b[38;5;34m3\u001b[0m)    │              \u001b[38;5;34m0\u001b[0m │ -                      │\n",
              "│ (\u001b[38;5;33mInputLayer\u001b[0m)              │                        │                │                        │\n",
              "├───────────────────────────┼────────────────────────┼────────────────┼────────────────────────┤\n",
              "│ embedding (\u001b[38;5;33mFunctional\u001b[0m)    │ (\u001b[38;5;45mNone\u001b[0m, \u001b[38;5;34m4096\u001b[0m)           │     \u001b[38;5;34m38,960,448\u001b[0m │ input_img[\u001b[38;5;34m0\u001b[0m][\u001b[38;5;34m0\u001b[0m],       │\n",
              "│                           │                        │                │ validation_img[\u001b[38;5;34m0\u001b[0m][\u001b[38;5;34m0\u001b[0m]   │\n",
              "├───────────────────────────┼────────────────────────┼────────────────┼────────────────────────┤\n",
              "│ l1_dist_2 (\u001b[38;5;33mL1Dist\u001b[0m)        │ (\u001b[38;5;45mNone\u001b[0m, \u001b[38;5;34m4096\u001b[0m)           │              \u001b[38;5;34m0\u001b[0m │ embedding[\u001b[38;5;34m3\u001b[0m][\u001b[38;5;34m0\u001b[0m],       │\n",
              "│                           │                        │                │ embedding[\u001b[38;5;34m4\u001b[0m][\u001b[38;5;34m0\u001b[0m]        │\n",
              "├───────────────────────────┼────────────────────────┼────────────────┼────────────────────────┤\n",
              "│ dense_2 (\u001b[38;5;33mDense\u001b[0m)           │ (\u001b[38;5;45mNone\u001b[0m, \u001b[38;5;34m1\u001b[0m)              │          \u001b[38;5;34m4,097\u001b[0m │ l1_dist_2[\u001b[38;5;34m0\u001b[0m][\u001b[38;5;34m0\u001b[0m]        │\n",
              "└───────────────────────────┴────────────────────────┴────────────────┴────────────────────────┘\n"
            ],
            "text/html": [
              "<pre style=\"white-space:pre;overflow-x:auto;line-height:normal;font-family:Menlo,'DejaVu Sans Mono',consolas,'Courier New',monospace\">┏━━━━━━━━━━━━━━━━━━━━━━━━━━━┳━━━━━━━━━━━━━━━━━━━━━━━━┳━━━━━━━━━━━━━━━━┳━━━━━━━━━━━━━━━━━━━━━━━━┓\n",
              "┃<span style=\"font-weight: bold\"> Layer (type)              </span>┃<span style=\"font-weight: bold\"> Output Shape           </span>┃<span style=\"font-weight: bold\">        Param # </span>┃<span style=\"font-weight: bold\"> Connected to           </span>┃\n",
              "┡━━━━━━━━━━━━━━━━━━━━━━━━━━━╇━━━━━━━━━━━━━━━━━━━━━━━━╇━━━━━━━━━━━━━━━━╇━━━━━━━━━━━━━━━━━━━━━━━━┩\n",
              "│ input_img (<span style=\"color: #0087ff; text-decoration-color: #0087ff\">InputLayer</span>)    │ (<span style=\"color: #00d7ff; text-decoration-color: #00d7ff\">None</span>, <span style=\"color: #00af00; text-decoration-color: #00af00\">100</span>, <span style=\"color: #00af00; text-decoration-color: #00af00\">100</span>, <span style=\"color: #00af00; text-decoration-color: #00af00\">3</span>)    │              <span style=\"color: #00af00; text-decoration-color: #00af00\">0</span> │ -                      │\n",
              "├───────────────────────────┼────────────────────────┼────────────────┼────────────────────────┤\n",
              "│ validation_img            │ (<span style=\"color: #00d7ff; text-decoration-color: #00d7ff\">None</span>, <span style=\"color: #00af00; text-decoration-color: #00af00\">100</span>, <span style=\"color: #00af00; text-decoration-color: #00af00\">100</span>, <span style=\"color: #00af00; text-decoration-color: #00af00\">3</span>)    │              <span style=\"color: #00af00; text-decoration-color: #00af00\">0</span> │ -                      │\n",
              "│ (<span style=\"color: #0087ff; text-decoration-color: #0087ff\">InputLayer</span>)              │                        │                │                        │\n",
              "├───────────────────────────┼────────────────────────┼────────────────┼────────────────────────┤\n",
              "│ embedding (<span style=\"color: #0087ff; text-decoration-color: #0087ff\">Functional</span>)    │ (<span style=\"color: #00d7ff; text-decoration-color: #00d7ff\">None</span>, <span style=\"color: #00af00; text-decoration-color: #00af00\">4096</span>)           │     <span style=\"color: #00af00; text-decoration-color: #00af00\">38,960,448</span> │ input_img[<span style=\"color: #00af00; text-decoration-color: #00af00\">0</span>][<span style=\"color: #00af00; text-decoration-color: #00af00\">0</span>],       │\n",
              "│                           │                        │                │ validation_img[<span style=\"color: #00af00; text-decoration-color: #00af00\">0</span>][<span style=\"color: #00af00; text-decoration-color: #00af00\">0</span>]   │\n",
              "├───────────────────────────┼────────────────────────┼────────────────┼────────────────────────┤\n",
              "│ l1_dist_2 (<span style=\"color: #0087ff; text-decoration-color: #0087ff\">L1Dist</span>)        │ (<span style=\"color: #00d7ff; text-decoration-color: #00d7ff\">None</span>, <span style=\"color: #00af00; text-decoration-color: #00af00\">4096</span>)           │              <span style=\"color: #00af00; text-decoration-color: #00af00\">0</span> │ embedding[<span style=\"color: #00af00; text-decoration-color: #00af00\">3</span>][<span style=\"color: #00af00; text-decoration-color: #00af00\">0</span>],       │\n",
              "│                           │                        │                │ embedding[<span style=\"color: #00af00; text-decoration-color: #00af00\">4</span>][<span style=\"color: #00af00; text-decoration-color: #00af00\">0</span>]        │\n",
              "├───────────────────────────┼────────────────────────┼────────────────┼────────────────────────┤\n",
              "│ dense_2 (<span style=\"color: #0087ff; text-decoration-color: #0087ff\">Dense</span>)           │ (<span style=\"color: #00d7ff; text-decoration-color: #00d7ff\">None</span>, <span style=\"color: #00af00; text-decoration-color: #00af00\">1</span>)              │          <span style=\"color: #00af00; text-decoration-color: #00af00\">4,097</span> │ l1_dist_2[<span style=\"color: #00af00; text-decoration-color: #00af00\">0</span>][<span style=\"color: #00af00; text-decoration-color: #00af00\">0</span>]        │\n",
              "└───────────────────────────┴────────────────────────┴────────────────┴────────────────────────┘\n",
              "</pre>\n"
            ]
          },
          "metadata": {}
        },
        {
          "output_type": "display_data",
          "data": {
            "text/plain": [
              "\u001b[1m Total params: \u001b[0m\u001b[38;5;34m38,964,545\u001b[0m (148.64 MB)\n"
            ],
            "text/html": [
              "<pre style=\"white-space:pre;overflow-x:auto;line-height:normal;font-family:Menlo,'DejaVu Sans Mono',consolas,'Courier New',monospace\"><span style=\"font-weight: bold\"> Total params: </span><span style=\"color: #00af00; text-decoration-color: #00af00\">38,964,545</span> (148.64 MB)\n",
              "</pre>\n"
            ]
          },
          "metadata": {}
        },
        {
          "output_type": "display_data",
          "data": {
            "text/plain": [
              "\u001b[1m Trainable params: \u001b[0m\u001b[38;5;34m38,964,545\u001b[0m (148.64 MB)\n"
            ],
            "text/html": [
              "<pre style=\"white-space:pre;overflow-x:auto;line-height:normal;font-family:Menlo,'DejaVu Sans Mono',consolas,'Courier New',monospace\"><span style=\"font-weight: bold\"> Trainable params: </span><span style=\"color: #00af00; text-decoration-color: #00af00\">38,964,545</span> (148.64 MB)\n",
              "</pre>\n"
            ]
          },
          "metadata": {}
        },
        {
          "output_type": "display_data",
          "data": {
            "text/plain": [
              "\u001b[1m Non-trainable params: \u001b[0m\u001b[38;5;34m0\u001b[0m (0.00 B)\n"
            ],
            "text/html": [
              "<pre style=\"white-space:pre;overflow-x:auto;line-height:normal;font-family:Menlo,'DejaVu Sans Mono',consolas,'Courier New',monospace\"><span style=\"font-weight: bold\"> Non-trainable params: </span><span style=\"color: #00af00; text-decoration-color: #00af00\">0</span> (0.00 B)\n",
              "</pre>\n"
            ]
          },
          "metadata": {}
        }
      ]
    },
    {
      "cell_type": "code",
      "source": [
        "binary_cross_loss=tf.losses.BinaryCrossentropy()\n",
        "opt=tf.keras.optimizers.Adam(1e-4)\n",
        "\n",
        "checkpoint_dir='./training_checkpoints'\n",
        "checkpoint_prefix=os.path.join(checkpoint_dir,'ckpt')\n",
        "checkpoint=tf.train.Checkpoint(opt=opt,siamese_model=siamese_model)"
      ],
      "metadata": {
        "id": "kXbfCqGMll19"
      },
      "execution_count": 33,
      "outputs": []
    },
    {
      "cell_type": "code",
      "source": [
        "@tf.function\n",
        "def train_step(batch):\n",
        "  #record all of opetarions\n",
        "  with tf.GradientTape() as tape:\n",
        "    X=batch[:2]\n",
        "    y=batch[2]\n",
        "\n",
        "    yhat=siamese_model(X,training=True)\n",
        "    loss=binary_cross_loss(y,yhat)\n",
        "\n",
        "  grad=tape.gradient(loss, siamese_model.trainable_variables)\n",
        "\n",
        "  opt.apply_gradients(zip(grad,siamese_model.trainable_variables))\n",
        "\n",
        "  return loss\n"
      ],
      "metadata": {
        "colab": {
          "base_uri": "https://localhost:8080/",
          "height": 211
        },
        "id": "FJ3WRt5tv3sj",
        "outputId": "833f44ff-1f37-4fd6-82b5-e65c14c44053"
      },
      "execution_count": 1,
      "outputs": [
        {
          "output_type": "error",
          "ename": "NameError",
          "evalue": "name 'tf' is not defined",
          "traceback": [
            "\u001b[0;31m---------------------------------------------------------------------------\u001b[0m",
            "\u001b[0;31mNameError\u001b[0m                                 Traceback (most recent call last)",
            "\u001b[0;32m<ipython-input-1-fd8ac9407088>\u001b[0m in \u001b[0;36m<cell line: 0>\u001b[0;34m()\u001b[0m\n\u001b[0;32m----> 1\u001b[0;31m \u001b[0;34m@\u001b[0m\u001b[0mtf\u001b[0m\u001b[0;34m.\u001b[0m\u001b[0mfunction\u001b[0m\u001b[0;34m\u001b[0m\u001b[0;34m\u001b[0m\u001b[0m\n\u001b[0m\u001b[1;32m      2\u001b[0m \u001b[0;32mdef\u001b[0m \u001b[0mtrain_step\u001b[0m\u001b[0;34m(\u001b[0m\u001b[0mbatch\u001b[0m\u001b[0;34m)\u001b[0m\u001b[0;34m:\u001b[0m\u001b[0;34m\u001b[0m\u001b[0;34m\u001b[0m\u001b[0m\n\u001b[1;32m      3\u001b[0m   \u001b[0;31m#record all of opetarions\u001b[0m\u001b[0;34m\u001b[0m\u001b[0;34m\u001b[0m\u001b[0m\n\u001b[1;32m      4\u001b[0m   \u001b[0;32mwith\u001b[0m \u001b[0mtf\u001b[0m\u001b[0;34m.\u001b[0m\u001b[0mGradientTape\u001b[0m\u001b[0;34m(\u001b[0m\u001b[0;34m)\u001b[0m \u001b[0;32mas\u001b[0m \u001b[0mtape\u001b[0m\u001b[0;34m:\u001b[0m\u001b[0;34m\u001b[0m\u001b[0;34m\u001b[0m\u001b[0m\n\u001b[1;32m      5\u001b[0m     \u001b[0mX\u001b[0m\u001b[0;34m=\u001b[0m\u001b[0mbatch\u001b[0m\u001b[0;34m[\u001b[0m\u001b[0;34m:\u001b[0m\u001b[0;36m2\u001b[0m\u001b[0;34m]\u001b[0m\u001b[0;34m\u001b[0m\u001b[0;34m\u001b[0m\u001b[0m\n",
            "\u001b[0;31mNameError\u001b[0m: name 'tf' is not defined"
          ]
        }
      ]
    },
    {
      "cell_type": "code",
      "source": [
        "def train(data,EPOCHS):\n",
        "  #loop through epochs\n",
        "  for epoch in range(1, EPOCHS+1):\n",
        "    print('\\n Epoch {} {}'.format(epoch, EPOCHS))\n",
        "    progbar=tf.keras.utils.Progbar(len(train_data))\n",
        "\n",
        "    for idx, batch in enumerate(train_data):\n",
        "      train_step(batch)\n",
        "      progbar.update(idx+1)\n",
        "    if epoch % 10 ==0:\n",
        "      checkpoint.save(file_prefix=checkpoint_prefix)\n",
        ""
      ],
      "metadata": {
        "id": "qq7185ZOx-Pz"
      },
      "execution_count": 39,
      "outputs": []
    },
    {
      "cell_type": "code",
      "source": [
        "EPOCHS=50\n",
        "train(train_data,EPOCHS)"
      ],
      "metadata": {
        "colab": {
          "base_uri": "https://localhost:8080/"
        },
        "id": "2bFPqldXyuRB",
        "outputId": "ac98998f-fa8d-4aa1-ec81-c278bb392333"
      },
      "execution_count": null,
      "outputs": [
        {
          "output_type": "stream",
          "name": "stdout",
          "text": [
            "\n",
            " Epoch 1 50\n",
            "\u001b[1m 1/22\u001b[0m \u001b[37m━━━━━━━━━━━━━━━━━━━━\u001b[0m \u001b[1m14:46\u001b[0m 42s/step"
          ]
        }
      ]
    }
  ]
}